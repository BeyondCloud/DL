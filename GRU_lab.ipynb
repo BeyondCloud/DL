{
 "cells": [
  {
   "cell_type": "code",
   "execution_count": 38,
   "metadata": {},
   "outputs": [],
   "source": [
    "#%% (0) Important libraries\n",
    "import tensorflow as tf\n",
    "import numpy as np\n",
    "from numpy import random\n",
    "import matplotlib.pyplot as plt\n",
    "from IPython import display\n",
    "% matplotlib inline\n",
    "\n",
    "#%% (1) Dataset creation.\n",
    "\n",
    "def as_bytes(num, final_size):\n",
    "    \"\"\"Converts an integer to a reversed bitstring (of size final_size).\n",
    "    \n",
    "    Arguments\n",
    "    ---------\n",
    "    num: int\n",
    "        The number to convert.\n",
    "    final_size: int\n",
    "        The length of the bitstring.\n",
    "        \n",
    "    Returns\n",
    "    -------\n",
    "    list:\n",
    "        A list which is the reversed bitstring representation of the given number.\n",
    "        \n",
    "    Examples\n",
    "    --------\n",
    "    >>> as_bytes(3, 4)\n",
    "    [1, 1, 0, 0]\n",
    "    >>> as_bytes(3, 5)\n",
    "    [1, 1, 0, 0, 0]\n",
    "    \"\"\"\n",
    "    res = []\n",
    "    for _ in range(final_size):\n",
    "        res.append(num % 2)\n",
    "        num //= 2\n",
    "    return res\n",
    "\n",
    "def generate_example(num_bits):\n",
    "    \"\"\"Generate an example addition.\n",
    "    \n",
    "    Arguments\n",
    "    ---------\n",
    "    num_bits: int\n",
    "        The number of bits to use.\n",
    "        \n",
    "    Returns\n",
    "    -------\n",
    "    a: list\n",
    "        The first term (represented as reversed bitstring) of the addition.\n",
    "    b: list\n",
    "        The second term (represented as reversed bitstring) of the addition.\n",
    "    c: list\n",
    "        The addition (a + b) represented as reversed bitstring.\n",
    "        \n",
    "    Examples\n",
    "    --------\n",
    "    >>> np.random.seed(4)\n",
    "    >>> a, b, c = generate_example(3)\n",
    "    >>> a\n",
    "    [0, 1, 0]\n",
    "    >>> b\n",
    "    [0, 1, 0]\n",
    "    >>> c\n",
    "    [1, 0, 0]\n",
    "    >>> # Notice that these numbers are represented as reversed bitstrings)\n",
    "    \"\"\"\n",
    "    a = random.randint(0, 2**(num_bits - 1) - 1)\n",
    "    b = random.randint(0, 2**(num_bits - 1) - 1)\n",
    "    res = a + b\n",
    "    return (as_bytes(a,  num_bits),\n",
    "            as_bytes(b,  num_bits),\n",
    "            as_bytes(res,num_bits))\n"
   ]
  },
  {
   "cell_type": "code",
   "execution_count": 47,
   "metadata": {
    "collapsed": true
   },
   "outputs": [],
   "source": [
    "from tqdm import tqdm_notebook as tqdm\n",
    "def generate_batch(num_bits, batch_size):\n",
    "    \"\"\"Generates instances of the addition problem.\n",
    "    Arguments\n",
    "    ---------\n",
    "    num_bits: int\n",
    "        The number of bits to use for each number.\n",
    "    batch_size: int\n",
    "        The number of examples to generate.\n",
    "    \n",
    "    Returns\n",
    "    -------\n",
    "    x: np.array\n",
    "        Two numbers to be added represented as bits (in reversed order).\n",
    "        Shape: b, i, n\n",
    "        Where:\n",
    "            b is bit index from the end.\n",
    "            i is example idx in batch.\n",
    "            n is one of [0,1] depending for first and second summand respectively.\n",
    "    y: np.array\n",
    "        The result of the addition.\n",
    "        Shape: b, i, n\n",
    "        Where:\n",
    "            b is bit index from the end.\n",
    "            i is example idx in batch.\n",
    "            n is always 0 since there is only one result.\n",
    "    \"\"\"\n",
    "    x = np.empty((batch_size, num_bits, 2))\n",
    "    y = np.empty((batch_size, num_bits, 1))\n",
    "\n",
    "    for i in range(batch_size):\n",
    "        a, b, r = generate_example(num_bits)\n",
    "        x[i, :, 0] = a\n",
    "        x[i, :, 1] = b\n",
    "        y[i, :, 0] = r\n",
    "    return x, y\n",
    "\n",
    "# Configuration\n",
    "batch_size = 100\n",
    "time_size = 5\n",
    "\n",
    "# Generate a test set and a train set containing 100 examples of numbers represented in 5 bits\n",
    "X_train, Y_train = generate_batch(time_size, batch_size)\n",
    "X_test, Y_test = generate_batch(time_size, batch_size)\n",
    "\n",
    "#%% (2) Model definition.\n",
    "\n",
    "import tensorflow as tf\n",
    "\n",
    "class GRU:\n",
    "    \"\"\"Implementation of a Gated Recurrent Unit (GRU) as described in [1].\n",
    "    \n",
    "    [1] Chung, J., Gulcehre, C., Cho, K., & Bengio, Y. (2014). Empirical evaluation of gated recurrent neural networks on sequence modeling. arXiv preprint arXiv:1412.3555.\n",
    "    \n",
    "    Arguments\n",
    "    ---------\n",
    "    input_dimensions: int\n",
    "        The size of the input vectors (x_t).\n",
    "    hidden_size: int\n",
    "        The size of the hidden layer vectors (h_t).\n",
    "    dtype: obj\n",
    "        The datatype used for the variables and constants (optional).\n",
    "    \"\"\"\n",
    "    \n",
    "    def __init__(self, input_dimensions, hidden_size, dtype=tf.float64):\n",
    "        self.input_dimensions = input_dimensions\n",
    "        self.hidden_size = hidden_size\n",
    "        \n",
    "        # Weights for input vectors of shape (input_dimensions, hidden_size)\n",
    "        self.Wr = tf.Variable(tf.truncated_normal(dtype=dtype, shape=(self.input_dimensions, self.hidden_size), mean=0, stddev=0.01), name='Wr')\n",
    "        self.Wz = tf.Variable(tf.truncated_normal(dtype=dtype, shape=(self.input_dimensions, self.hidden_size), mean=0, stddev=0.01), name='Wz')\n",
    "        self.Wh = tf.Variable(tf.truncated_normal(dtype=dtype, shape=(self.input_dimensions, self.hidden_size), mean=0, stddev=0.01), name='Wh')\n",
    "        \n",
    "        # Weights for hidden vectors of shape (hidden_size, hidden_size)\n",
    "        self.Ur = tf.Variable(tf.truncated_normal(dtype=dtype, shape=(self.hidden_size, self.hidden_size), mean=0, stddev=0.01), name='Ur')\n",
    "        self.Uz = tf.Variable(tf.truncated_normal(dtype=dtype, shape=(self.hidden_size, self.hidden_size), mean=0, stddev=0.01), name='Uz')\n",
    "        self.Uh = tf.Variable(tf.truncated_normal(dtype=dtype, shape=(self.hidden_size, self.hidden_size), mean=0, stddev=0.01), name='Uh')\n",
    "        \n",
    "        # Biases for hidden vectors of shape (hidden_size,)\n",
    "        self.br = tf.Variable(tf.truncated_normal(dtype=dtype, shape=(self.hidden_size,), mean=0, stddev=0.01), name='br')\n",
    "        self.bz = tf.Variable(tf.truncated_normal(dtype=dtype, shape=(self.hidden_size,), mean=0, stddev=0.01), name='bz')\n",
    "        self.bh = tf.Variable(tf.truncated_normal(dtype=dtype, shape=(self.hidden_size,), mean=0, stddev=0.01), name='bh')\n",
    "        \n",
    "        # Define the input layer placeholder\n",
    "        self.input_layer = tf.placeholder(dtype=tf.float64, shape=(None, None, input_dimensions), name='input')\n",
    "        \n",
    "        # Put the time-dimension upfront for the scan operator\n",
    "        self.x_t = tf.transpose(self.input_layer, [1, 0, 2], name='x_t')\n",
    "        \n",
    "        # A little hack (to obtain the same shape as the input matrix) to define the initial hidden state h_0\n",
    "        self.h_0 = tf.matmul(self.x_t[0, :, :], tf.zeros(dtype=tf.float64, shape=(input_dimensions, hidden_size)), name='h_0')\n",
    "        \n",
    "        # Perform the scan operator\n",
    "        self.h_t_transposed = tf.scan(self.forward_pass, self.x_t, initializer=self.h_0, name='h_t_transposed')\n",
    "        \n",
    "        # Transpose the result back\n",
    "        self.h_t = tf.transpose(self.h_t_transposed, [1, 0, 2], name='h_t')\n",
    "\n",
    "    def forward_pass(self, h_tm1, x_t):\n",
    "        \"\"\"Perform a forward pass.\n",
    "        \n",
    "        Arguments\n",
    "        ---------\n",
    "        h_tm1: np.matrix\n",
    "            The hidden state at the previous timestep (h_{t-1}).\n",
    "        x_t: np.matrix\n",
    "            The input vector.\n",
    "        \"\"\"\n",
    "        # Definitions of z_t and r_t\n",
    "        z_t = tf.sigmoid(tf.matmul(x_t, self.Wz) + tf.matmul(h_tm1, self.Uz) + self.bz)\n",
    "        r_t = tf.sigmoid(tf.matmul(x_t, self.Wr) + tf.matmul(h_tm1, self.Ur) + self.br)\n",
    "        \n",
    "        # Definition of h~_t\n",
    "        h_proposal = tf.tanh(tf.matmul(x_t, self.Wh) + tf.matmul(tf.multiply(r_t, h_tm1), self.Uh) + self.bh)\n",
    "        \n",
    "        # Compute the next hidden state\n",
    "        h_t = tf.multiply(1 - z_t, h_tm1) + tf.multiply(z_t, h_proposal)\n",
    "        \n",
    "        return h_t\n",
    "    \n",
    "#%% (3) Initialize and train the model.\n",
    "\n",
    "# The input has 2 dimensions: dimension 0 is reserved for the first term and dimension 1 is reverved for the second term\n",
    "input_dimensions = 2\n",
    "\n",
    "# Arbitrary number for the size of the hidden state\n",
    "hidden_size = 16\n",
    "\n",
    "# Initialize a session\n",
    "session = tf.Session()\n",
    "\n",
    "# Create a new instance of the GRU model\n",
    "gru = GRU(input_dimensions, hidden_size)\n",
    "\n",
    "# Add an additional layer on top of each of the hidden state outputs\n",
    "W_output = tf.Variable(tf.truncated_normal(dtype=tf.float64, shape=(hidden_size, 1), mean=0, stddev=0.01))\n",
    "b_output = tf.Variable(tf.truncated_normal(dtype=tf.float64, shape=(1,), mean=0, stddev=0.01))\n",
    "output = tf.map_fn(lambda h_t: tf.matmul(h_t, W_output) + b_output, gru.h_t)\n",
    "\n",
    "# Create a placeholder for the expected output\n",
    "expected_output = tf.placeholder(dtype=tf.float64, shape=(batch_size, time_size, 1), name='expected_output')\n",
    "\n",
    "# Just use quadratic loss\n",
    "loss = tf.reduce_sum(0.5 * tf.pow(output - expected_output, 2)) / float(batch_size)\n"
   ]
  },
  {
   "cell_type": "code",
   "execution_count": 13,
   "metadata": {},
   "outputs": [
    {
     "data": {
      "application/vnd.jupyter.widget-view+json": {
       "model_id": "555f518b80a841de9348b996014fbaff"
      }
     },
     "metadata": {},
     "output_type": "display_data"
    },
    {
     "name": "stdout",
     "output_type": "stream",
     "text": [
      "\n"
     ]
    },
    {
     "data": {
      "image/png": "[encoded data removed]",
      "text/plain": [
       "<Figure size 432x288 with 1 Axes>"
      ]
     },
     "metadata": {},
     "output_type": "display_data"
    },
    {
     "name": "stdout",
     "output_type": "stream",
     "text": [
      "Iteration: 2999, train loss: 0.0049, test loss: 0.0188\n",
      "1040\n"
     ]
    }
   ],
   "source": [
    "\n",
    "# Use the Adam optimizer for training\n",
    "train_step = tf.train.RMSPropOptimizer(0.01).minimize(loss)\n",
    "\n",
    "# Initialize all the variables\n",
    "init_variables = tf.global_variables_initializer()\n",
    "session.run(init_variables)\n",
    "\n",
    "# Initialize the losses\n",
    "train_losses = []\n",
    "validation_losses = []\n",
    "\n",
    "# Perform all the iterations\n",
    "for epoch in tqdm(range(3000)):\n",
    "    # Compute the losses\n",
    "    _, train_loss = session.run([train_step, loss], feed_dict={gru.input_layer: X_train, expected_output: Y_train})\n",
    "    validation_loss = session.run(loss, feed_dict={gru.input_layer: X_test, expected_output: Y_test})\n",
    "    \n",
    "    # Log the losses\n",
    "    train_losses += [train_loss]\n",
    "    validation_losses += [validation_loss]\n",
    "    \n",
    "    # Display an update every 50 iterations\n",
    "#     if epoch % 500 == 0:\n",
    "plt.plot(train_losses, '-b', label='Train loss')\n",
    "plt.plot(validation_losses, '-r', label='Validation loss')\n",
    "plt.legend(loc=0)\n",
    "plt.title('Loss')\n",
    "plt.xlabel('Iteration')\n",
    "plt.ylabel('Loss')\n",
    "plt.show()\n",
    "print('Iteration: %d, train loss: %.4f, test loss: %.4f' % (epoch, train_loss, validation_loss))\n",
    "\n",
    "#%% (4) Manually evaluate the model.\n",
    "    \n",
    "# Define two numbers a and b and let the model compute a + b\n",
    "a = 1024\n",
    "b = 16\n",
    "\n",
    "# The model is independent of the sequence length! Now we can test the model on even longer bitstrings\n",
    "bitstring_length = 20\n",
    "\n",
    "# Create the feature vectors    \n",
    "X_custom_sample = np.vstack([as_bytes(a, bitstring_length), as_bytes(b, bitstring_length)]).T\n",
    "X_custom = np.zeros((1,) + X_custom_sample.shape)\n",
    "X_custom[0, :, :] = X_custom_sample\n",
    "\n",
    "# Make a prediction by using the model\n",
    "y_predicted = session.run(output, feed_dict={gru.input_layer: X_custom})\n",
    "# Just use a linear class separator at 0.5\n",
    "y_bits = 1 * (y_predicted > 0.5)[0, :, 0]\n",
    "# Join and reverse the bitstring\n",
    "y_bitstr = ''.join([str(int(bit)) for bit in y_bits.tolist()])[::-1]\n",
    "# Convert the found bitstring to a number\n",
    "y = int(y_bitstr, 2)\n",
    "\n",
    "# Print out the prediction\n",
    "print(y) # Yay! This should equal 1024 + 16 = 1040"
   ]
  },
  {
   "cell_type": "code",
   "execution_count": 11,
   "metadata": {},
   "outputs": [
    {
     "data": {
      "text/plain": [
       "1040"
      ]
     },
     "execution_count": 11,
     "metadata": {},
     "output_type": "execute_result"
    }
   ],
   "source": [
    "y_bitstr\n",
    "int(y_bitstr[1:], 2)"
   ]
  },
  {
   "cell_type": "code",
   "execution_count": 15,
   "metadata": {},
   "outputs": [
    {
     "data": {
      "application/vnd.jupyter.widget-view+json": {
       "model_id": "d48b1b9ececc4aa5b2b7371147f533d2"
      }
     },
     "metadata": {},
     "output_type": "display_data"
    },
    {
     "name": "stdout",
     "output_type": "stream",
     "text": [
      "\n"
     ]
    },
    {
     "data": {
      "image/png": "[encoded data removed]",
      "text/plain": [
       "<Figure size 432x288 with 1 Axes>"
      ]
     },
     "metadata": {},
     "output_type": "display_data"
    },
    {
     "name": "stdout",
     "output_type": "stream",
     "text": [
      "Iteration: 2999, train loss: 0.0000, test loss: 0.0002\n"
     ]
    }
   ],
   "source": [
    "# Use the Adam optimizer for training\n",
    "train_step = tf.train.AdamOptimizer(0.01).minimize(loss)\n",
    "\n",
    "# Initialize all the variables\n",
    "init_variables = tf.global_variables_initializer()\n",
    "session.run(init_variables)\n",
    "\n",
    "# Initialize the losses\n",
    "train_losses = []\n",
    "validation_losses = []\n",
    "\n",
    "# Perform all the iterations\n",
    "for epoch in tqdm(range(3000)):\n",
    "    # Compute the losses\n",
    "    _, train_loss = session.run([train_step, loss], feed_dict={gru.input_layer: X_train, expected_output: Y_train})\n",
    "    validation_loss = session.run(loss, feed_dict={gru.input_layer: X_test, expected_output: Y_test})\n",
    "    \n",
    "    # Log the losses\n",
    "    train_losses += [train_loss]\n",
    "    validation_losses += [validation_loss]\n",
    "    \n",
    "    # Display an update every 50 iterations\n",
    "#     if epoch % 500 == 0:\n",
    "plt.plot(train_losses, '-b', label='Train loss')\n",
    "plt.plot(validation_losses, '-r', label='Validation loss')\n",
    "plt.legend(loc=0)\n",
    "plt.title('Loss')\n",
    "plt.xlabel('Iteration')\n",
    "plt.ylabel('Loss')\n",
    "plt.show()\n",
    "print('Iteration: %d, train loss: %.4f, test loss: %.4f' % (epoch, train_loss, validation_loss))\n"
   ]
  },
  {
   "cell_type": "code",
   "execution_count": 65,
   "metadata": {},
   "outputs": [
    {
     "data": {
      "application/vnd.jupyter.widget-view+json": {
       "model_id": "f706801ce4ab4616b1cd54ff7a4e93a7"
      }
     },
     "metadata": {},
     "output_type": "display_data"
    },
    {
     "name": "stdout",
     "output_type": "stream",
     "text": [
      "\n"
     ]
    },
    {
     "data": {
      "image/png": "[encoded data removed]",
      "text/plain": [
       "<Figure size 432x288 with 1 Axes>"
      ]
     },
     "metadata": {},
     "output_type": "display_data"
    },
    {
     "name": "stdout",
     "output_type": "stream",
     "text": [
      "Iteration: 99, train loss: 0.6239, test loss: 0.6239\n"
     ]
    }
   ],
   "source": [
    "# Use the Adam optimizer for training\n",
    "train_step = tf.train.MomentumOptimizer(learning_rate = 0.1,momentum=0.09).minimize(loss)\n",
    "\n",
    "\n",
    "# Initialize all the variables\n",
    "\n",
    "init_variables = tf.global_variables_initializer()\n",
    "session.run(init_variables)\n",
    "\n",
    "# Initialize the losses\n",
    "train_losses = []\n",
    "validation_losses = []\n",
    "\n",
    "# Perform all the iterations\n",
    "for epoch in tqdm(range(100)):\n",
    "    # Compute the losses\n",
    "    _, train_loss = session.run([train_step, loss], feed_dict={gru.input_layer: X_train, expected_output: Y_train})\n",
    "    validation_loss = session.run(loss, feed_dict={gru.input_layer: X_test, expected_output: Y_test})\n",
    "    \n",
    "    # Log the losses\n",
    "    train_losses += [train_loss]\n",
    "    validation_losses += [validation_loss]\n",
    "    \n",
    "    # Display an update every 50 iterations\n",
    "#     if epoch % 500 == 0:\n",
    "plt.plot(train_losses, '-b', label='Train loss')\n",
    "plt.plot(validation_losses, '-r', label='Validation loss')\n",
    "plt.legend(loc=0)\n",
    "plt.title('Loss')\n",
    "plt.xlabel('Iteration')\n",
    "plt.ylabel('Loss')\n",
    "plt.show()\n",
    "print('Iteration: %d, train loss: %.4f, test loss: %.4f' % (epoch, train_loss, validation_loss))\n"
   ]
  },
  {
   "cell_type": "code",
   "execution_count": 67,
   "metadata": {},
   "outputs": [
    {
     "data": {
      "application/vnd.jupyter.widget-view+json": {
       "model_id": "f26b11f8bac6491eac448b67c65e06ab"
      }
     },
     "metadata": {},
     "output_type": "display_data"
    },
    {
     "name": "stdout",
     "output_type": "stream",
     "text": [
      "\n"
     ]
    },
    {
     "data": {
      "image/png": "[encoded data removed]",
      "text/plain": [
       "<Figure size 432x288 with 1 Axes>"
      ]
     },
     "metadata": {},
     "output_type": "display_data"
    },
    {
     "name": "stdout",
     "output_type": "stream",
     "text": [
      "Iteration: 499, train loss: 0.6059, test loss: 0.6078\n"
     ]
    }
   ],
   "source": [
    "# Use the Adam optimizer for training\n",
    "train_op = tf.train.MomentumOptimizer(learning_rate = 0.01,momentum=0.9)\n",
    "# train_op = tf.train.AdamOptimizer(0.0)\n",
    "\n",
    "train_step = train_op.minimize(loss)\n",
    "\n",
    "session.run(tf.variables_initializer(train_op.variables()))\n",
    "# Initialize the losses\n",
    "train_losses = []\n",
    "validation_losses = []\n",
    "\n",
    "# Perform all the iterations\n",
    "for epoch in tqdm(range(500)):\n",
    "    # Compute the losses\n",
    "    _, train_loss = session.run([train_step, loss], feed_dict={gru.input_layer: X_train, expected_output: Y_train})\n",
    "    validation_loss = session.run(loss, feed_dict={gru.input_layer: X_test, expected_output: Y_test})\n",
    "    \n",
    "    # Log the losses\n",
    "    train_losses += [train_loss]\n",
    "    validation_losses += [validation_loss]\n",
    "    \n",
    "    # Display an update every 50 iterations\n",
    "#     if epoch % 500 == 0:\n",
    "plt.plot(train_losses, '-b', label='Train loss')\n",
    "plt.plot(validation_losses, '-r', label='Validation loss')\n",
    "plt.legend(loc=0)\n",
    "plt.title('Loss')\n",
    "plt.xlabel('Iteration')\n",
    "plt.ylabel('Loss')\n",
    "plt.show()\n",
    "print('Iteration: %d, train loss: %.4f, test loss: %.4f' % (epoch, train_loss, validation_loss))\n"
   ]
  }
 ],
 "metadata": {
  "kernelspec": {
   "display_name": "Python 3",
   "language": "python",
   "name": "python3"
  },
  "language_info": {
   "codemirror_mode": {
    "name": "ipython",
    "version": 3
   },
   "file_extension": ".py",
   "mimetype": "text/x-python",
   "name": "python",
   "nbconvert_exporter": "python",
   "pygments_lexer": "ipython3",
   "version": "3.6.1"
  }
 },
 "nbformat": 4,
 "nbformat_minor": 2
}
