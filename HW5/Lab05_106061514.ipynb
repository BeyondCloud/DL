{
 "cells": [
  {
   "cell_type": "markdown",
   "metadata": {},
   "source": [
    "Top best 3 features and how you find it\n",
    ">SHOT_CLOCK, SHOT_DIST, CLOSE_DEF_DIST <br />\n",
    ">Two ways to select the feature: random forest, LASSO <br />\n",
    ">LASSO's features are applied since it generates higher accuracy score generally<br />\n",
    ">To find the LASSO's features, sweep the alpha value until 3 features areseparated<br />\n",
    "\n",
    "How you evaluate your model?\n",
    ">accuracy_score in sklearn\n",
    "\n",
    "All models you have tried and the result\n",
    ">Linear regression, Polynomial features(degree =2~7)  (train/valid = 0.63/0.62)<br /> \n",
    ">random forest(train/valid = 1.0/0.56)<br /> \n",
    ">LinearSVM in sklearn (0.612/0.624)\n",
    "\n",
    "\n",
    "Plot the learning curve of your best model and tell if it is over-fit or not\n",
    "> The model becomes overfitting after the polynomial degree exceed 6 <br />\n",
    "> since the validation error increases while the training error decreases after degree>6\n",
    "\n",
    "A brief report what you do in this assignment\n",
    ">1.Load dataset <br />\n",
    ">2.Standardize and split the dataset into training and validation set <br />\n",
    ">3.Select 3 features using LASSO <br />\n",
    ">4.Eliminate outlier using RANSAC <br />\n",
    ">5.Try linearRegression model using polynomial features <br />\n",
    ">6.Select the degree with the best performance on validation set (degree=6) <br />\n"
   ]
  },
  {
   "cell_type": "code",
   "execution_count": 446,
   "metadata": {
    "scrolled": true
   },
   "outputs": [
    {
     "name": "stdout",
     "output_type": "stream",
     "text": [
      "(52399, 8)\n",
      "Index(['PERIOD', 'GAME_CLOCK', 'SHOT_CLOCK', 'DRIBBLES', 'TOUCH_TIME',\n",
      "       'SHOT_DIST', 'PTS_TYPE', 'CLOSE_DEF_DIST'],\n",
      "      dtype='object')\n",
      "Index(['FGM'], dtype='object')\n"
     ]
    }
   ],
   "source": [
    "# load data, standardize , split training and testing\n",
    "import pandas as pd\n",
    "import numpy as np\n",
    "from sklearn.model_selection import train_test_split\n",
    "from sklearn.preprocessing import StandardScaler\n",
    "from sklearn.metrics import r2_score\n",
    "from sklearn.metrics import mean_squared_error\n",
    "from sklearn.linear_model import LinearRegression\n",
    "\n",
    "\n",
    "X = pd.read_csv('./data/nba/X_train.csv')\n",
    "Y = pd.read_csv('./data/nba/y_train.csv')\n",
    "sc = StandardScaler()\n",
    "sc.fit(X_train)\n",
    "X_train_std = sc.transform(X)\n",
    "\n",
    "X_t = pd.read_csv('./data/nba/X_test.csv')\n",
    "sc.fit(X_t)\n",
    "X_test = sc.transform(X_test)\n",
    "\n",
    "print(X.shape)\n",
    "print(X.columns)\n",
    "print(y_train.columns)\n",
    "\n",
    "X_train, X_valid, y_train, y_valid = train_test_split(X_train_std, Y, test_size=0.3, random_state=0)"
   ]
  },
  {
   "cell_type": "code",
   "execution_count": 447,
   "metadata": {},
   "outputs": [
    {
     "name": "stderr",
     "output_type": "stream",
     "text": [
      "C:\\Users\\a1989\\Anaconda3\\lib\\site-packages\\ipykernel_launcher.py:12: DataConversionWarning: A column-vector y was passed when a 1d array was expected. Please change the shape of y to (n_samples,), for example using ravel().\n",
      "  if sys.path[0] == '':\n"
     ]
    },
    {
     "name": "stdout",
     "output_type": "stream",
     "text": [
      "['SHOT_DIST' 'GAME_CLOCK' 'SHOT_CLOCK']\n"
     ]
    }
   ],
   "source": [
    "# Random forest feature select\n",
    "%matplotlib inline\n",
    "import numpy as np\n",
    "import matplotlib.pyplot as plt\n",
    "from sklearn.ensemble import RandomForestClassifier\n",
    "from sklearn.metrics import accuracy_score\n",
    "\n",
    "forest = RandomForestClassifier(criterion='entropy',\n",
    "                                n_estimators=100, \n",
    "                                random_state=1,\n",
    "                                n_jobs=2)\n",
    "forest.fit(X_train, y_train)\n",
    "\n",
    "importances = forest.feature_importances_\n",
    "indices = np.argsort(importances)[::-1]\n",
    "\n",
    "print(X.columns.values[indices[:3]])\n"
   ]
  },
  {
   "cell_type": "code",
   "execution_count": 448,
   "metadata": {},
   "outputs": [
    {
     "name": "stderr",
     "output_type": "stream",
     "text": [
      "C:\\Users\\a1989\\Anaconda3\\lib\\site-packages\\ipykernel_launcher.py:1: DataConversionWarning: A column-vector y was passed when a 1d array was expected. Please change the shape of y to (n_samples,), for example using ravel().\n",
      "  \"\"\"Entry point for launching an IPython kernel.\n"
     ]
    },
    {
     "name": "stdout",
     "output_type": "stream",
     "text": [
      "Train Accuracy: 1.00\n",
      "Valid Accuracy: 0.56\n"
     ]
    }
   ],
   "source": [
    "forest.fit(X_train[:,indices[:3]], y_train)\n",
    "y_pred = forest.predict(X_train[:,indices[:3]])\n",
    "print('Train Accuracy: %.2f' % accuracy_score(y_pred, y_train))\n",
    "y_pred = forest.predict(X_valid[:,indices[:3]])\n",
    "print('Valid Accuracy: %.2f' % accuracy_score(y_pred, y_valid))\n",
    "\n"
   ]
  },
  {
   "cell_type": "code",
   "execution_count": 449,
   "metadata": {},
   "outputs": [
    {
     "name": "stdout",
     "output_type": "stream",
     "text": [
      "\n",
      "[Ordinary least square]\n",
      "Train Accuracy: 0.60\n",
      "Valid Accuracy: 0.60\n"
     ]
    }
   ],
   "source": [
    "from sklearn.preprocessing import PolynomialFeatures\n",
    "from sklearn.linear_model import LinearRegression\n",
    "slr = LinearRegression()\n",
    "slr.fit(X_train[:,indices[:3]], y_train)\n",
    "print('\\n[Ordinary least square]')\n",
    "\n",
    "y_pred = np.round(slr.predict(X_train[:,indices[:3]]))\n",
    "\n",
    "print('Train Accuracy: %.2f' % accuracy_score(y_pred, y_train))\n",
    "y_pred =np.round(slr.predict(X_valid[:,indices[:3]]))\n",
    "\n",
    "print('Valid Accuracy: %.2f' % accuracy_score(y_pred, y_valid))"
   ]
  },
  {
   "cell_type": "code",
   "execution_count": 450,
   "metadata": {},
   "outputs": [
    {
     "name": "stdout",
     "output_type": "stream",
     "text": [
      "[0.001 0.011 0.021 0.031 0.041 0.051 0.061 0.071 0.081 0.091]\n"
     ]
    },
    {
     "data": {
      "image/png": "[encoded data removed]",
      "text/plain": [
       "<Figure size 432x288 with 1 Axes>"
      ]
     },
     "metadata": {},
     "output_type": "display_data"
    }
   ],
   "source": [
    "#let alpha = 0.03\n",
    "\n",
    "max_alpha = 0.1\n",
    "step = 0.01\n",
    "coef_ = np.zeros((int(max_alpha/step),8))\n",
    "k=0\n",
    "for a in np.arange(0.001,max_alpha,step):\n",
    "    lr_rg = Lasso(alpha=a)\n",
    "    lr_rg.fit(X_train, y_train)\n",
    "\n",
    "    y_train_pred = lr_rg.predict(X_train)\n",
    "    y_test_pred = lr_rg.predict(X_test)\n",
    "    coef_[k,:] = lr_rg.coef_.reshape(1,-1)\n",
    "    k=k+1\n",
    "print(np.arange(0.001,max_alpha,step))\n",
    "for i in range(8):\n",
    "    plt.plot(np.arange(0.001,max_alpha,step),coef_[:,i])\n",
    "    \n",
    "plt.ylabel('Coefficients')\n",
    "plt.xlabel('Alpha')\n",
    "plt.tight_layout()\n",
    "plt.show()"
   ]
  },
  {
   "cell_type": "code",
   "execution_count": 451,
   "metadata": {},
   "outputs": [
    {
     "name": "stdout",
     "output_type": "stream",
     "text": [
      "\n",
      "[Alpha = 0.000001]\n",
      "MSE train: 0.2345631\n",
      "\n",
      "[Alpha = 0.000100]\n",
      "MSE train: 0.2345635\n",
      "\n",
      "[Alpha = 0.010000]\n",
      "MSE train: 0.2351639\n",
      "\n",
      "[Alpha = 1.000000]\n",
      "MSE train: 0.2480336\n"
     ]
    },
    {
     "data": {
      "image/png": "[encoded data removed]",
      "text/plain": [
       "<Figure size 432x288 with 1 Axes>"
      ]
     },
     "metadata": {},
     "output_type": "display_data"
    },
    {
     "name": "stdout",
     "output_type": "stream",
     "text": [
      "[0.         0.         0.01055929 0.         0.         0.06315792\n",
      " 0.         0.00114017]\n",
      "Selected attributes: ['SHOT_CLOCK' 'SHOT_DIST' 'CLOSE_DEF_DIST'] (array([2, 5, 7], dtype=int64),)\n"
     ]
    }
   ],
   "source": [
    "from sklearn.linear_model import Lasso\n",
    "from sklearn.linear_model import Ridge\n",
    "from sklearn.metrics import mean_squared_error\n",
    "\n",
    "for a in [0.000001, 0.0001, 0.01, 1]:\n",
    "    lr_rg = Lasso(alpha=a)\n",
    "    lr_rg.fit(X_train, y_train)\n",
    "\n",
    "    y_train_pred = lr_rg.predict(X_train)\n",
    "    y_test_pred = lr_rg.predict(X_test)\n",
    "\n",
    "    print('\\n[Alpha = %.6f]' % a )\n",
    "    print('MSE train: %.7f' % (mean_squared_error(y_train, y_train_pred))) \n",
    "var_num = X_train.shape[1]\n",
    "\n",
    "lr_lasso = Lasso(alpha = 0.03)\n",
    "lr_lasso.fit(X_train, y_train)\n",
    "lr_ridge = Ridge(alpha = 1)\n",
    "lr_ridge.fit(X_train, y_train)\n",
    "\n",
    "plt.scatter(range(var_num),lr_lasso.coef_, label = 'LASSO', color = 'blue')\n",
    "plt.scatter(range(var_num),lr_ridge.coef_, label = 'Ridge', color = 'green')\n",
    "plt.hlines(y=0, xmin=0, xmax=var_num-1, color='red', linestyle ='--')\n",
    "plt.xlim(0,12)\n",
    "plt.legend(loc = 'upper right')\n",
    "plt.xlabel('Coefficients index')\n",
    "plt.ylabel('Coefficients')\n",
    "plt.tight_layout()\n",
    "plt.show()\n",
    "\n",
    "epsilon = 1e-4\n",
    "print(abs(lr_lasso.coef_) )\n",
    "idxs = np.where(abs(lr_lasso.coef_) > epsilon)\n",
    "\n",
    "print('Selected attributes: {}'.format(X.columns.values[idxs]),idxs)"
   ]
  },
  {
   "cell_type": "code",
   "execution_count": 361,
   "metadata": {},
   "outputs": [
    {
     "name": "stdout",
     "output_type": "stream",
     "text": [
      "Train samples eliminated: 405 / 36679\n",
      "Valid samples eliminated: 266 / 15720\n"
     ]
    }
   ],
   "source": [
    "#Attempt to eliminate the outlier using randsac\n",
    "from sklearn.linear_model import RANSACRegressor\n",
    "ransac = RANSACRegressor(LinearRegression(), \n",
    "            max_trials=100, \n",
    "            min_samples=4000, \n",
    "            residual_threshold=0.7, \n",
    "            random_state=1)\n",
    "\n",
    "ransac.fit(X_train[:,idxs[0]], y_train)\n",
    "inlier_mask = ransac.inlier_mask_\n",
    "outlier_mask = np.logical_not(inlier_mask)\n",
    "\n",
    "X_train_masked = X_train[inlier_mask]\n",
    "y_train_masked = y_train[inlier_mask]\n",
    "\n",
    "print('Train samples eliminated:',sum(outlier_mask),'/',len(X_train))\n",
    "\n",
    "ransac.fit(X_valid, y_valid)\n",
    "inlier_mask = ransac.inlier_mask_\n",
    "outlier_mask = np.logical_not(inlier_mask)\n",
    "X_valid_masked = X_valid[inlier_mask]\n",
    "y_valid_masked = y_valid[inlier_mask]\n",
    "\n",
    "print('Valid samples eliminated:',sum(outlier_mask),'/',len(X_valid))"
   ]
  },
  {
   "cell_type": "code",
   "execution_count": 296,
   "metadata": {},
   "outputs": [
    {
     "name": "stdout",
     "output_type": "stream",
     "text": [
      "2\n"
     ]
    },
    {
     "data": {
      "image/png": "[encoded data removed]",
      "text/plain": [
       "<Figure size 432x288 with 1 Axes>"
      ]
     },
     "metadata": {},
     "output_type": "display_data"
    }
   ],
   "source": [
    "ransac.fit(X_train[:,idxs[0]], y_train)\n",
    "inlier_mask = ransac.inlier_mask_\n",
    "print(idxs[0][0])\n",
    "plt.scatter(X_train[inlier_mask,idxs[0][0]], y_train[inlier_mask],c='blue', marker='o', label='Inliers')\n",
    "outlier_mask = np.logical_not(inlier_mask)\n",
    "\n",
    "plt.scatter(X_train[outlier_mask,idxs[0][0]], y_train[outlier_mask\n",
    "            c='lightgreen', marker='s', label='Outliers')\n",
    "\n",
    "plt.xlabel('Average number of rooms [RM]')\n",
    "plt.ylabel('Price in $1000\\'s [MEDV]')\n",
    "plt.legend(loc='upper left')\n",
    "plt.tight_layout()\n",
    "plt.show()"
   ]
  },
  {
   "cell_type": "code",
   "execution_count": 362,
   "metadata": {},
   "outputs": [
    {
     "name": "stdout",
     "output_type": "stream",
     "text": [
      "\n",
      "[Ordinary least square]\n",
      "Train Accuracy: 0.623\n",
      "Valid Accuracy: 0.632\n"
     ]
    }
   ],
   "source": [
    "from sklearn.preprocessing import PolynomialFeatures\n",
    "from sklearn.linear_model import LinearRegression\n",
    "slr = LinearRegression()\n",
    "poly = PolynomialFeatures(degree= 6)\n",
    "\n",
    "#forest feature\n",
    "# 0.62/ 0.49\n",
    "# X_train_selected = X_train_masked[:,indices[:3]] \n",
    "\n",
    "X_train_selected = X_train_masked[:,idxs[0]]\n",
    "\n",
    "X_trans = poly.fit_transform(X_train_selected)\n",
    "\n",
    "slr = slr.fit(X_trans, y_train_masked)\n",
    "\n",
    "print('\\n[Ordinary least square]')\n",
    "y_pred = np.round(slr.predict(X_trans))\n",
    "print('Train Accuracy: %.3f' % accuracy_score(y_pred, y_train_masked))\n",
    "\n",
    "X_valid_selected = X_valid_masked[:,idxs[0]]\n",
    "X_trans = poly.fit_transform(X_valid_selected)\n",
    "\n",
    "y_pred =np.round(slr.predict(X_trans))\n",
    "print('Valid Accuracy: %.3f' % accuracy_score(y_pred, y_valid_masked))"
   ]
  },
  {
   "cell_type": "code",
   "execution_count": 306,
   "metadata": {},
   "outputs": [
    {
     "data": {
      "image/png": "[encoded data removed]",
      "text/plain": [
       "<Figure size 432x288 with 1 Axes>"
      ]
     },
     "metadata": {},
     "output_type": "display_data"
    }
   ],
   "source": [
    "#overfitting when degree = 6\n",
    "from sklearn.metrics import mean_squared_error\n",
    "\n",
    "mse_train = []\n",
    "mse_valid = []\n",
    "max_degree = 9\n",
    "\n",
    "for d in range(1, max_degree):\n",
    "    poly = PolynomialFeatures(degree=d)\n",
    "    X_train_poly = poly.fit_transform(X_train_selected)\n",
    "    X_valid_poly = poly.transform(X_valid_selected)\n",
    "    \n",
    "    regr = LinearRegression()\n",
    "    regr = regr.fit(X_train_poly, y_train_masked)\n",
    "    y_train_pred = regr.predict(X_train_poly)\n",
    "    y_valid_pred = regr.predict(X_valid_poly)\n",
    "    \n",
    "    mse_train.append(mean_squared_error(y_train_masked, y_train_pred))\n",
    "    mse_valid.append(mean_squared_error(y_valid_masked, y_valid_pred))\n",
    "    \n",
    "\n",
    "plt.plot(range(1, max_degree), mse_train, label = 'Training error', color = 'blue', linewidth = 2)\n",
    "plt.plot(range(1, max_degree), mse_valid, label = 'validing error', color = 'red', linewidth = 2)\n",
    "plt.legend(loc='upper right')\n",
    "plt.xlabel('Model complexity (polynomial degree)')\n",
    "plt.ylabel('$MSE$')\n",
    "plt.tight_layout()\n",
    "plt.show()"
   ]
  },
  {
   "cell_type": "code",
   "execution_count": 312,
   "metadata": {},
   "outputs": [
    {
     "name": "stdout",
     "output_type": "stream",
     "text": [
      "[ 2442  7937 13433 18928 24424]\n"
     ]
    },
    {
     "data": {
      "image/png": "[encoded data removed]",
      "text/plain": [
       "<Figure size 432x288 with 1 Axes>"
      ]
     },
     "metadata": {},
     "output_type": "display_data"
    },
    {
     "name": "stdout",
     "output_type": "stream",
     "text": [
      "[ 2442  7937 13433 18928 24424]\n"
     ]
    },
    {
     "data": {
      "image/png": "[encoded data removed]",
      "text/plain": [
       "<Figure size 432x288 with 1 Axes>"
      ]
     },
     "metadata": {},
     "output_type": "display_data"
    },
    {
     "name": "stdout",
     "output_type": "stream",
     "text": [
      "[ 2442  7937 13433 18928 24424]\n"
     ]
    },
    {
     "data": {
      "image/png": "[encoded data removed]",
      "text/plain": [
       "<Figure size 432x288 with 1 Axes>"
      ]
     },
     "metadata": {},
     "output_type": "display_data"
    }
   ],
   "source": [
    "def mse(model, X, y):\n",
    "    return ((model.predict(X) - y)**2).mean()\n",
    "from sklearn.learning_curve import learning_curve\n",
    "\n",
    "degree = [1, 3, 5]\n",
    "sigma = 1\n",
    "for d in degree:\n",
    "    poly = PolynomialFeatures(degree=d)\n",
    "    X = poly.fit_transform(X_train_selected)\n",
    "\n",
    "    lr = LinearRegression()\n",
    "    train_sizes, train_scores, test_scores = learning_curve(estimator=lr, X=X, y=y_train_masked, scoring=mse)\n",
    "    print(train_sizes)\n",
    "    train_mean = np.mean(train_scores, axis=1)\n",
    "    train_std = np.std(train_scores, axis=1)\n",
    "    test_mean = np.mean(test_scores, axis=1)\n",
    "    test_std = np.std(test_scores, axis=1)\n",
    "\n",
    "    plt.plot(train_sizes, train_mean,\n",
    "        color='blue', marker='o',\n",
    "        markersize=5,\n",
    "        label='Training error')\n",
    "    plt.fill_between(train_sizes,\n",
    "        train_mean+train_std,\n",
    "        train_mean-train_std,\n",
    "        alpha=0.15, color='blue')\n",
    "    \n",
    "    plt.plot(train_sizes, test_mean,\n",
    "        color='green', linestyle='--',\n",
    "        marker='s', markersize=5,\n",
    "        label='Testing error')\n",
    "    plt.fill_between(train_sizes,\n",
    "        test_mean+test_std,\n",
    "        test_mean-test_std,\n",
    "        alpha=0.15, color='green')\n",
    "    \n",
    "    plt.title('Degree: %d' % d)\n",
    "    plt.grid()\n",
    "    plt.xlabel('Number of training samples')\n",
    "    plt.ylabel('MSE')\n",
    "    plt.legend(loc='upper right')\n",
    "    plt.ylim([0, 0.4])\n",
    "    plt.tight_layout()\n",
    "    plt.show()"
   ]
  },
  {
   "cell_type": "code",
   "execution_count": 452,
   "metadata": {},
   "outputs": [
    {
     "name": "stderr",
     "output_type": "stream",
     "text": [
      "C:\\Users\\a1989\\Anaconda3\\lib\\site-packages\\sklearn\\utils\\validation.py:578: DataConversionWarning: A column-vector y was passed when a 1d array was expected. Please change the shape of y to (n_samples, ), for example using ravel().\n",
      "  y = column_or_1d(y, warn=True)\n"
     ]
    },
    {
     "name": "stdout",
     "output_type": "stream",
     "text": [
      "\n",
      "SVM\n",
      "Train Accuracy: 0.612\n",
      "Valid Accuracy: 0.624\n"
     ]
    }
   ],
   "source": [
    "from sklearn import svm\n",
    "clf = svm.LinearSVC(C=0.01)\n",
    "\n",
    "clf.fit(X_train_selected, y_train_masked)\n",
    "y_pred = clf.predict(X_train_selected)\n",
    "\n",
    "print('\\nSVM')\n",
    "# y_pred = np.round(slr.predict(X_trans))\n",
    "\n",
    "print('Train Accuracy: %.3f' % accuracy_score(y_pred, y_train_masked))\n",
    "\n",
    "# X_valid_selected = X_valid_masked[:,idxs[0]]\n",
    "# X_trans = poly.fit_transform(X_valid_selected)\n",
    "\n",
    "y_pred = clf.predict(X_valid_selected)\n",
    "print('Valid Accuracy: %.3f' % accuracy_score(y_pred, y_valid_masked))"
   ]
  },
  {
   "cell_type": "code",
   "execution_count": 3,
   "metadata": {},
   "outputs": [
    {
     "name": "stdout",
     "output_type": "stream",
     "text": [
      "<class 'numpy.ndarray'>\n",
      "(52399, 8)\n"
     ]
    },
    {
     "name": "stderr",
     "output_type": "stream",
     "text": [
      "C:\\Users\\a1989\\Anaconda3\\lib\\site-packages\\ipykernel_launcher.py:2: FutureWarning: Method .as_matrix will be removed in a future version. Use .values instead.\n",
      "  \n"
     ]
    }
   ],
   "source": [
    "def pd2np(df):\n",
    "    return df.as_matrix()\n",
    "X_train = pd2np(X_train)\n",
    "y_train = pd2np(y_train)\n",
    "X_test = pd2np(X_test)\n",
    "print(type(X_train))\n",
    "print(X_train.shape)"
   ]
  },
  {
   "cell_type": "code",
   "execution_count": 71,
   "metadata": {},
   "outputs": [
    {
     "name": "stdout",
     "output_type": "stream",
     "text": [
      "    PERIOD  GAME_CLOCK  SHOT_CLOCK  DRIBBLES  TOUCH_TIME  SHOT_DIST  PTS_TYPE  \\\n",
      "20       3         162         6.0         0         0.8       23.7         3   \n",
      "21       2         269        18.6         0         1.6       25.0         3   \n",
      "22       1         624        19.8         1         0.7        9.6         2   \n",
      "23       2         527         9.5         0         0.6        3.4         2   \n",
      "24       1         358        19.0         0         0.9       23.8         3   \n",
      "25       1         150        15.8         0         0.9       20.6         2   \n",
      "26       1         258        15.7         0         0.7        3.0         2   \n",
      "27       2         444         9.7        19        13.9       10.2         2   \n",
      "28       4         191        13.2         0         0.7        3.4         2   \n",
      "29       4         469        12.5         2         3.7        5.3         2   \n",
      "\n",
      "    CLOSE_DEF_DIST  \n",
      "20             5.3  \n",
      "21             6.5  \n",
      "22             1.9  \n",
      "23             4.0  \n",
      "24             8.0  \n",
      "25             6.4  \n",
      "26             2.2  \n",
      "27             3.0  \n",
      "28             1.7  \n",
      "29             3.8  \n",
      "    FGM\n",
      "20    0\n",
      "21    1\n",
      "22    0\n",
      "23    1\n",
      "24    0\n",
      "25    0\n",
      "26    0\n",
      "27    1\n",
      "28    1\n",
      "29    0\n"
     ]
    }
   ],
   "source": [
    "print(X[20:30])\n",
    "print(Y[20:30])"
   ]
  }
 ],
 "metadata": {
  "kernelspec": {
   "display_name": "Python 3",
   "language": "python",
   "name": "python3"
  },
  "language_info": {
   "codemirror_mode": {
    "name": "ipython",
    "version": 3
   },
   "file_extension": ".py",
   "mimetype": "text/x-python",
   "name": "python",
   "nbconvert_exporter": "python",
   "pygments_lexer": "ipython3",
   "version": "3.6.5"
  }
 },
 "nbformat": 4,
 "nbformat_minor": 2
}
