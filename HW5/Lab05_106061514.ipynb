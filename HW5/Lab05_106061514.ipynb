{
 "cells": [
  {
   "cell_type": "markdown",
   "metadata": {},
   "source": [
    "select the best 3 features, \n",
    "The top-3 features you find and how you find it\n",
    "\n",
    "How you evaluate your model\n",
    "\n",
    "All models you have tried and the result\n",
    "\n",
    "<font color=red>Plot the learning curve</font> of your best model and \n",
    "\n",
    "<font color=red>tell if it is over-fit or not</font>\n",
    "\n",
    "A brief report what you do in this assignment\n"
   ]
  },
  {
   "cell_type": "code",
   "execution_count": 56,
   "metadata": {},
   "outputs": [
    {
     "name": "stdout",
     "output_type": "stream",
     "text": [
      "(52399, 8)\n",
      "Index(['PERIOD', 'GAME_CLOCK', 'SHOT_CLOCK', 'DRIBBLES', 'TOUCH_TIME',\n",
      "       'SHOT_DIST', 'PTS_TYPE', 'CLOSE_DEF_DIST'],\n",
      "      dtype='object')\n",
      "Index(['FGM'], dtype='object')\n"
     ]
    }
   ],
   "source": [
    "# load data, standardize , split training and testing\n",
    "import pandas as pd\n",
    "import numpy as np\n",
    "from sklearn.model_selection import train_test_split\n",
    "from sklearn.preprocessing import StandardScaler\n",
    "from sklearn.metrics import r2_score\n",
    "from sklearn.metrics import mean_squared_error\n",
    "from sklearn.linear_model import LinearRegression\n",
    "\n",
    "\n",
    "X = pd.read_csv('./data/nba/X_train.csv')\n",
    "Y = pd.read_csv('./data/nba/y_train.csv')\n",
    "sc = StandardScaler()\n",
    "sc.fit(X_train)\n",
    "X_train_std = sc.transform(X)\n",
    "\n",
    "X_t = pd.read_csv('./data/nba/X_test.csv')\n",
    "sc.fit(X_t)\n",
    "X_test = sc.transform(X_test)\n",
    "\n",
    "print(X.shape)\n",
    "print(X.columns)\n",
    "print(y_train.columns)\n",
    "\n",
    "X_train, X_valid, y_train, y_valid = train_test_split(X_train_std, Y, test_size=0.3, random_state=0)"
   ]
  },
  {
   "cell_type": "code",
   "execution_count": 84,
   "metadata": {},
   "outputs": [
    {
     "name": "stderr",
     "output_type": "stream",
     "text": [
      "C:\\Users\\a1989\\Anaconda3\\lib\\site-packages\\ipykernel_launcher.py:12: DataConversionWarning: A column-vector y was passed when a 1d array was expected. Please change the shape of y to (n_samples,), for example using ravel().\n",
      "  if sys.path[0] == '':\n"
     ]
    },
    {
     "name": "stdout",
     "output_type": "stream",
     "text": [
      "['SHOT_DIST' 'GAME_CLOCK' 'SHOT_CLOCK']\n"
     ]
    }
   ],
   "source": [
    "# Random forest feature select\n",
    "%matplotlib inline\n",
    "import numpy as np\n",
    "import matplotlib.pyplot as plt\n",
    "from sklearn.ensemble import RandomForestClassifier\n",
    "from sklearn.metrics import accuracy_score\n",
    "\n",
    "forest = RandomForestClassifier(criterion='entropy',\n",
    "                                n_estimators=100, \n",
    "                                random_state=1,\n",
    "                                n_jobs=2)\n",
    "forest.fit(X_train, y_train)\n",
    "\n",
    "importances = forest.feature_importances_\n",
    "indices = np.argsort(importances)[::-1]\n",
    "\n",
    "print(X.columns.values[indices[:3]])\n"
   ]
  },
  {
   "cell_type": "code",
   "execution_count": 86,
   "metadata": {},
   "outputs": [
    {
     "name": "stderr",
     "output_type": "stream",
     "text": [
      "C:\\Users\\a1989\\Anaconda3\\lib\\site-packages\\ipykernel_launcher.py:1: DataConversionWarning: A column-vector y was passed when a 1d array was expected. Please change the shape of y to (n_samples,), for example using ravel().\n",
      "  \"\"\"Entry point for launching an IPython kernel.\n"
     ]
    },
    {
     "name": "stdout",
     "output_type": "stream",
     "text": [
      "Train Accuracy: 1.00\n",
      "Valid Accuracy: 0.56\n"
     ]
    }
   ],
   "source": [
    "forest.fit(X_train[:,indices[:3]], y_train)\n",
    "y_pred = forest.predict(X_train[:,indices[:3]])\n",
    "print('Train Accuracy: %.2f' % accuracy_score(y_pred, y_train))\n",
    "y_pred = forest.predict(X_valid[:,indices[:3]])\n",
    "print('Valid Accuracy: %.2f' % accuracy_score(y_pred, y_valid))\n",
    "\n"
   ]
  },
  {
   "cell_type": "code",
   "execution_count": 98,
   "metadata": {},
   "outputs": [
    {
     "name": "stdout",
     "output_type": "stream",
     "text": [
      "\n",
      "[Ordinary least square]\n",
      "Train Accuracy: 0.60\n",
      "Valid Accuracy: 0.60\n"
     ]
    }
   ],
   "source": [
    "from sklearn.preprocessing import PolynomialFeatures\n",
    "from sklearn.linear_model import LinearRegression\n",
    "slr = LinearRegression()\n",
    "slr.fit(X_train[:,indices[:3]], y_train)\n",
    "print('\\n[Ordinary least square]')\n",
    "\n",
    "y_pred = np.round(slr.predict(X_train[:,indices[:3]]))\n",
    "\n",
    "print('Train Accuracy: %.2f' % accuracy_score(y_pred, y_train))\n",
    "y_pred =np.round(slr.predict(X_valid[:,indices[:3]]))\n",
    "\n",
    "print('Valid Accuracy: %.2f' % accuracy_score(y_pred, y_valid))"
   ]
  },
  {
   "cell_type": "code",
   "execution_count": 81,
   "metadata": {},
   "outputs": [
    {
     "name": "stdout",
     "output_type": "stream",
     "text": [
      "\n",
      "[Alpha = 0.000001]\n",
      "MSE train: 0.2345631\n",
      "\n",
      "[Alpha = 0.000100]\n",
      "MSE train: 0.2345632\n",
      "\n",
      "[Alpha = 0.010000]\n",
      "MSE train: 0.2346781\n",
      "\n",
      "[Alpha = 1.000000]\n",
      "MSE train: 0.2479881\n"
     ]
    },
    {
     "data": {
      "image/png": "[encoded data removed]",
      "text/plain": [
       "<Figure size 432x288 with 1 Axes>"
      ]
     },
     "metadata": {},
     "output_type": "display_data"
    },
    {
     "name": "stdout",
     "output_type": "stream",
     "text": [
      "Selected attributes: ['SHOT_DIST' 'PTS_TYPE' 'CLOSE_DEF_DIST'] (array([5, 6, 7], dtype=int64),)\n"
     ]
    }
   ],
   "source": [
    "from sklearn.linear_model import Lasso\n",
    "from sklearn.linear_model import Ridge\n",
    "from sklearn.metrics import mean_squared_error\n",
    "\n",
    "for a in [0.000001, 0.0001, 0.01, 1]:\n",
    "    lr_rg = Lasso(alpha=a)\n",
    "    lr_rg.fit(X_train, y_train)\n",
    "\n",
    "    y_train_pred = lr_rg.predict(X_train)\n",
    "    y_test_pred = lr_rg.predict(X_test)\n",
    "\n",
    "    print('\\n[Alpha = %.6f]' % a )\n",
    "    print('MSE train: %.7f' % (mean_squared_error(y_train, y_train_pred))) \n",
    "var_num = X_train.shape[1]\n",
    "\n",
    "lr_lasso = Lasso(alpha =  0.000001)\n",
    "lr_lasso.fit(X_train, y_train)\n",
    "lr_ridge = Ridge(alpha = 1)\n",
    "lr_ridge.fit(X_train, y_train)\n",
    "\n",
    "plt.scatter(range(var_num),lr_lasso.coef_, label = 'LASSO', color = 'blue')\n",
    "plt.scatter(range(var_num),lr_ridge.coef_, label = 'Ridge', color = 'green')\n",
    "plt.hlines(y=0, xmin=0, xmax=var_num-1, color='red', linestyle ='--')\n",
    "plt.xlim(0,12)\n",
    "plt.legend(loc = 'upper right')\n",
    "plt.xlabel('Coefficients index')\n",
    "plt.ylabel('Coefficients')\n",
    "plt.tight_layout()\n",
    "plt.show()\n",
    "\n",
    "epsilon = 1.3e-2\n",
    "idxs = np.where(abs(lr_lasso.coef_) > epsilon)\n",
    "print('Selected attributes: {}'.format(X.columns.values[idxs]),idxs)"
   ]
  },
  {
   "cell_type": "code",
   "execution_count": 154,
   "metadata": {},
   "outputs": [
    {
     "name": "stdout",
     "output_type": "stream",
     "text": [
      "Train samples eliminated: 21 / 36679\n",
      "Valid samples eliminated: 1 / 15720\n"
     ]
    }
   ],
   "source": [
    "#Attempt to eliminate the outlier using randsac\n",
    "from sklearn.linear_model import RANSACRegressor\n",
    "ransac = RANSACRegressor(LinearRegression(), \n",
    "            max_trials=40, \n",
    "            min_samples=10, \n",
    "            residual_threshold=6.0, \n",
    "            random_state=0)\n",
    "\n",
    "ransac.fit(X_train, y_train)\n",
    "inlier_mask = ransac.inlier_mask_\n",
    "outlier_mask = np.logical_not(inlier_mask)\n",
    "X_train_masked = X_train[inlier_mask]\n",
    "y_train_masked = y_train[inlier_mask]\n",
    "\n",
    "print('Train samples eliminated:',sum(outlier_mask),'/',len(X_train))\n",
    "\n",
    "ransac.fit(X_valid, y_valid)\n",
    "inlier_mask = ransac.inlier_mask_\n",
    "outlier_mask = np.logical_not(inlier_mask)\n",
    "X_valid_masked = X_valid[inlier_mask]\n",
    "y_valid_masked = y_valid[inlier_mask]\n",
    "\n",
    "print('Valid samples eliminated:',sum(outlier_mask),'/',len(X_valid))"
   ]
  },
  {
   "cell_type": "code",
   "execution_count": 163,
   "metadata": {},
   "outputs": [
    {
     "name": "stdout",
     "output_type": "stream",
     "text": [
      "\n",
      "[Ordinary least square]\n",
      "Train Accuracy: 0.61\n",
      "Valid Accuracy: 0.61\n"
     ]
    }
   ],
   "source": [
    "from sklearn.preprocessing import PolynomialFeatures\n",
    "from sklearn.linear_model import LinearRegression\n",
    "slr = LinearRegression()\n",
    "poly = PolynomialFeatures(degree=3)\n",
    "\n",
    "\n",
    "X_train_selected = X_train_masked[:,indices[:3]]\n",
    "X_trans = poly.fit_transform(X_train_selected)\n",
    "\n",
    "slr = slr.fit(X_trans, y_train_masked)\n",
    "\n",
    "print('\\n[Ordinary least square]')\n",
    "y_pred = np.round(slr.predict(X_trans))\n",
    "print('Train Accuracy: %.2f' % accuracy_score(y_pred, y_train_masked))\n",
    "\n",
    "X_valid_selected = X_valid_masked[:,indices[:3]]\n",
    "X_trans = poly.fit_transform(X_valid_selected)\n",
    "\n",
    "y_pred =np.round(slr.predict(X_trans))\n",
    "print('Valid Accuracy: %.2f' % accuracy_score(y_pred, y_valid_masked))"
   ]
  },
  {
   "cell_type": "code",
   "execution_count": null,
   "metadata": {},
   "outputs": [],
   "source": [
    "class LinearRegressionGD(object):\n",
    "\n",
    "    def __init__(self, eta=0.00007, n_iter=40, random_state=1,n_cell=20):\n",
    "        self.eta = eta\n",
    "        self.n_iter = n_iter\n",
    "        self.random_state = random_state\n",
    "        rgen = np.random.RandomState(self.random_state)\n",
    "        self.w_ = rgen.normal(loc=0.0, scale=0.01, size=n_cell)\n",
    "        self.cost_ = []\n",
    "        self.n_cell = n_cell\n",
    "        \n",
    "    def fit(self, X, y):\n",
    " \n",
    "        for i in range(self.n_iter):\n",
    "            output = self.net_input(X)\n",
    "            errors = (y - output)\n",
    "            self.w_[1:] += self.eta * X.T.dot(errors)\n",
    "            self.w_[0] += self.eta * errors.sum()\n",
    "            cost = (errors**2).sum() / 2.0\n",
    "            self.cost_.append(cost)\n",
    "        return self\n",
    "\n",
    "    def net_input(self, X):\n",
    "        return np.dot(X, self.w_[1:]) + self.w_[0]\n",
    "\n",
    "    def predict(self, X):\n",
    "        return self.net_input(X)"
   ]
  },
  {
   "cell_type": "code",
   "execution_count": 3,
   "metadata": {},
   "outputs": [
    {
     "name": "stdout",
     "output_type": "stream",
     "text": [
      "<class 'numpy.ndarray'>\n",
      "(52399, 8)\n"
     ]
    },
    {
     "name": "stderr",
     "output_type": "stream",
     "text": [
      "C:\\Users\\a1989\\Anaconda3\\lib\\site-packages\\ipykernel_launcher.py:2: FutureWarning: Method .as_matrix will be removed in a future version. Use .values instead.\n",
      "  \n"
     ]
    }
   ],
   "source": [
    "def pd2np(df):\n",
    "    return df.as_matrix()\n",
    "X_train = pd2np(X_train)\n",
    "y_train = pd2np(y_train)\n",
    "X_test = pd2np(X_test)\n",
    "print(type(X_train))\n",
    "print(X_train.shape)"
   ]
  },
  {
   "cell_type": "code",
   "execution_count": 71,
   "metadata": {},
   "outputs": [
    {
     "name": "stdout",
     "output_type": "stream",
     "text": [
      "    PERIOD  GAME_CLOCK  SHOT_CLOCK  DRIBBLES  TOUCH_TIME  SHOT_DIST  PTS_TYPE  \\\n",
      "20       3         162         6.0         0         0.8       23.7         3   \n",
      "21       2         269        18.6         0         1.6       25.0         3   \n",
      "22       1         624        19.8         1         0.7        9.6         2   \n",
      "23       2         527         9.5         0         0.6        3.4         2   \n",
      "24       1         358        19.0         0         0.9       23.8         3   \n",
      "25       1         150        15.8         0         0.9       20.6         2   \n",
      "26       1         258        15.7         0         0.7        3.0         2   \n",
      "27       2         444         9.7        19        13.9       10.2         2   \n",
      "28       4         191        13.2         0         0.7        3.4         2   \n",
      "29       4         469        12.5         2         3.7        5.3         2   \n",
      "\n",
      "    CLOSE_DEF_DIST  \n",
      "20             5.3  \n",
      "21             6.5  \n",
      "22             1.9  \n",
      "23             4.0  \n",
      "24             8.0  \n",
      "25             6.4  \n",
      "26             2.2  \n",
      "27             3.0  \n",
      "28             1.7  \n",
      "29             3.8  \n",
      "    FGM\n",
      "20    0\n",
      "21    1\n",
      "22    0\n",
      "23    1\n",
      "24    0\n",
      "25    0\n",
      "26    0\n",
      "27    1\n",
      "28    1\n",
      "29    0\n"
     ]
    }
   ],
   "source": [
    "print(X[20:30])\n",
    "print(Y[20:30])"
   ]
  }
 ],
 "metadata": {
  "kernelspec": {
   "display_name": "Python 3",
   "language": "python",
   "name": "python3"
  },
  "language_info": {
   "codemirror_mode": {
    "name": "ipython",
    "version": 3
   },
   "file_extension": ".py",
   "mimetype": "text/x-python",
   "name": "python",
   "nbconvert_exporter": "python",
   "pygments_lexer": "ipython3",
   "version": "3.6.5"
  }
 },
 "nbformat": 4,
 "nbformat_minor": 2
}
