{
 "cells": [
  {
   "cell_type": "code",
   "execution_count": 11,
   "metadata": {},
   "outputs": [
    {
     "name": "stdout",
     "output_type": "stream",
     "text": [
      "(52399, 8)\n",
      "Index(['PERIOD', 'GAME_CLOCK', 'SHOT_CLOCK', 'DRIBBLES', 'TOUCH_TIME',\n",
      "       'SHOT_DIST', 'PTS_TYPE', 'CLOSE_DEF_DIST'],\n",
      "      dtype='object')\n"
     ]
    }
   ],
   "source": [
    "# load data, standardize , split training and testing\n",
    "import pandas as pd\n",
    "import numpy as np\n",
    "from sklearn.model_selection import train_test_split\n",
    "from sklearn.preprocessing import StandardScaler\n",
    "from sklearn.metrics import r2_score\n",
    "from sklearn.metrics import mean_squared_error\n",
    "from sklearn.linear_model import LinearRegression\n",
    "\n",
    "X = pd.read_csv('./data/nba/X_train.csv')\n",
    "Y = pd.read_csv('./data/nba/y_train.csv')\n",
    "sc = StandardScaler()\n",
    "sc.fit(X)\n",
    "\n",
    "X_train_std = sc.transform(X)\n",
    "\n",
    "X_t = pd.read_csv('./data/nba/X_test.csv')\n",
    "sc.fit(X_t)\n",
    "X_test = sc.transform(X_t)\n",
    "\n",
    "print(X.shape)\n",
    "print(X.columns)\n",
    "\n",
    "\n",
    "X_train, X_valid, y_train, y_valid = train_test_split(X_train_std, Y, test_size=0.3, random_state=0)\n"
   ]
  },
  {
   "cell_type": "code",
   "execution_count": 35,
   "metadata": {},
   "outputs": [
    {
     "name": "stdout",
     "output_type": "stream",
     "text": [
      "Train samples eliminated: 405 / 36679\n",
      "Valid samples eliminated: 266 / 15720\n"
     ]
    }
   ],
   "source": [
    "#Attempt to eliminate the outlier using randsac\n",
    "from sklearn.linear_model import RANSACRegressor\n",
    "ransac = RANSACRegressor(LinearRegression(), \n",
    "            max_trials=100, \n",
    "            min_samples=4000, \n",
    "            residual_threshold=0.7, \n",
    "            random_state=1)\n",
    "s = [2,5,7]\n",
    "ransac.fit(X_train[:,s], y_train)\n",
    "inlier_mask = ransac.inlier_mask_\n",
    "outlier_mask = np.logical_not(inlier_mask)\n",
    "\n",
    "X_train_masked = X_train[inlier_mask]\n",
    "y_train_masked = y_train[inlier_mask]\n",
    "\n",
    "print('Train samples eliminated:',sum(outlier_mask),'/',len(X_train))\n",
    "\n",
    "ransac.fit(X_valid, y_valid)\n",
    "inlier_mask = ransac.inlier_mask_\n",
    "outlier_mask = np.logical_not(inlier_mask)\n",
    "X_valid_masked = X_valid[inlier_mask]\n",
    "y_valid_masked = y_valid[inlier_mask]\n",
    "X_train_selected = X_train_masked[:,s]\n",
    "X_valid_selected = X_valid_masked[:,s]\n",
    "\n",
    "print('Valid samples eliminated:',sum(outlier_mask),'/',len(X_valid))"
   ]
  },
  {
   "cell_type": "code",
   "execution_count": 38,
   "metadata": {},
   "outputs": [
    {
     "name": "stderr",
     "output_type": "stream",
     "text": [
      "C:\\Users\\a1989\\Anaconda3\\lib\\site-packages\\sklearn\\utils\\validation.py:578: DataConversionWarning: A column-vector y was passed when a 1d array was expected. Please change the shape of y to (n_samples, ), for example using ravel().\n",
      "  y = column_or_1d(y, warn=True)\n"
     ]
    },
    {
     "name": "stdout",
     "output_type": "stream",
     "text": [
      "[1 0 0 ... 1 1 0]\n",
      "Train Accuracy: 0.628\n"
     ]
    }
   ],
   "source": [
    "from sklearn import svm\n",
    "from sklearn.ensemble import GradientBoostingClassifier\n",
    "from sklearn.metrics import accuracy_score\n",
    "\n",
    "# clf = svm.LinearSVC(C=0.01)\n",
    "\n",
    "# clf.fit(X_train_selected, y_train_masked)\n",
    "# y_pred = clf.predict(X_train_selected)\n",
    "\n",
    "gbm0 = GradientBoostingClassifier(random_state=10)\n",
    "gbm0.fit(X_train_selected, y_train_masked)\n",
    "y_pred = gbm0.predict(X_train_selected)\n",
    "print(y_pred)\n",
    "# y_predprob = gbm0.predict_proba(X)[:,1 ]\n",
    "print('Train Accuracy: %.3f' % accuracy_score(y_pred, y_train_masked))\n",
    "\n",
    "# X_valid_selected = X_valid_masked[:,idxs[0]]\n",
    "# X_trans = poly.fit_transform(X_valid_selected)\n",
    "\n",
    "# y_pred = clf.predict(X_valid_selected)\n",
    "# print('Valid Accuracy: %.3f' % accuracy_score(y_pred, y_valid_masked))"
   ]
  }
 ],
 "metadata": {
  "kernelspec": {
   "display_name": "Python 3",
   "language": "python",
   "name": "python3"
  },
  "language_info": {
   "codemirror_mode": {
    "name": "ipython",
    "version": 3
   },
   "file_extension": ".py",
   "mimetype": "text/x-python",
   "name": "python",
   "nbconvert_exporter": "python",
   "pygments_lexer": "ipython3",
   "version": "3.6.5"
  }
 },
 "nbformat": 4,
 "nbformat_minor": 2
}
