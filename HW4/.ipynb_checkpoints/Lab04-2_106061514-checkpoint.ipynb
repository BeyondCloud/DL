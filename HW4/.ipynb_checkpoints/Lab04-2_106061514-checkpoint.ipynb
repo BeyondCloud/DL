{
 "cells": [
  {
   "cell_type": "code",
   "execution_count": 1,
   "metadata": {},
   "outputs": [
    {
     "name": "stdout",
     "output_type": "stream",
     "text": [
      "(2130, 11) (2130,)\n"
     ]
    }
   ],
   "source": [
    "# Do not modify\n",
    "import pandas as pd\n",
    "import numpy as np\n",
    "import matplotlib.pyplot as plt\n",
    "from IPython.display import Image\n",
    "\n",
    "# inline plotting instead of popping out\n",
    "%matplotlib inline\n",
    "\n",
    "df = pd.read_csv(\n",
    "    'http://archive.ics.uci.edu/ml/machine-learning-databases/00381/PRSA_data_2010.1.1-2014.12.31.csv',\n",
    "    sep=',')\n",
    "df.head()\n",
    "# Do not modify\n",
    "df = df.drop(['cbwd'], axis=1)  # drop non-scalar feature\n",
    "df = df.dropna(axis=0, how='any')  # drop samples who has nan feature\n",
    "df.head()\n",
    "# Do not modify\n",
    "idx = np.logical_or(\n",
    "    np.logical_and(df['year'].values == 2014, df['month'].values < 3),\n",
    "    np.logical_and(df['year'].values == 2013, df['month'].values == 12))\n",
    "X = df.loc[idx].drop('pm2.5', axis=1)\n",
    "y = df.loc[idx]['pm2.5'].values\n",
    "X.head()\n",
    "print(X.shape,y.shape)"
   ]
  },
  {
   "cell_type": "code",
   "execution_count": 2,
   "metadata": {},
   "outputs": [
    {
     "name": "stdout",
     "output_type": "stream",
     "text": [
      "#Training data points: 1491\n",
      "#Testing data points: 639\n"
     ]
    }
   ],
   "source": [
    "from sklearn.model_selection import train_test_split\n",
    "from sklearn.preprocessing import StandardScaler\n",
    "from sklearn.metrics import r2_score\n",
    "from sklearn.metrics import mean_squared_error\n",
    "from sklearn.linear_model import LinearRegression\n",
    "\n",
    "\n",
    "\n",
    "X_train, X_test, y_train, y_test = train_test_split(X, y, test_size=0.3, random_state=0)\n",
    "\n",
    "print('#Training data points: %d' % X_train.shape[0])\n",
    "print('#Testing data points: %d' % X_test.shape[0])\n",
    "\n",
    "# Standardization\n",
    "\n",
    "sc = StandardScaler()\n",
    "sc.fit(X_train)\n",
    "\n",
    "X_train_std = sc.transform(X_train)\n",
    "X_test_std = sc.transform(X_test)\n",
    "\n",
    "# y_train_std = sc.fit_transform(y_train[:, np.newaxis]).flatten()\n",
    "# y_test_std = sc.fit_transform(y_test[:, np.newaxis]).flatten()\n"
   ]
  },
  {
   "cell_type": "code",
   "execution_count": 3,
   "metadata": {},
   "outputs": [],
   "source": [
    "def plot_resid(y_train_pred,y_train):\n",
    "    plt.scatter(\n",
    "        y_train_pred,\n",
    "        y_train_pred - y_train,\n",
    "        c='blue',\n",
    "        marker='o',\n",
    "        label='Training data')\n",
    "    plt.scatter(\n",
    "        y_test_pred,\n",
    "        y_test_pred - y_test,\n",
    "        c='lightgreen',\n",
    "        marker='s',\n",
    "        label='Test data')\n",
    "    plt.xlabel('Predicted values')\n",
    "    plt.ylabel('Residuals')\n",
    "    plt.legend(loc='upper left')\n",
    "    plt.hlines(y=0, xmin=-10, xmax=50, lw=2, color='red')\n",
    "    plt.xlim([-10, 50])\n",
    "    plt.tight_layout()\n",
    "    plt.show()"
   ]
  },
  {
   "cell_type": "code",
   "execution_count": 11,
   "metadata": {},
   "outputs": [],
   "source": [
    "class LinearRegressionGD(object):\n",
    "\n",
    "    def __init__(self, eta=0.00007, n_iter=40, random_state=1,n_cell=20):\n",
    "        self.eta = eta\n",
    "        self.n_iter = n_iter\n",
    "        self.random_state = random_state\n",
    "        rgen = np.random.RandomState(self.random_state)\n",
    "        self.w_ = rgen.normal(loc=0.0, scale=0.01, size=n_cell)\n",
    "        self.cost_ = []\n",
    "        self.n_cell = n_cell\n",
    "        \n",
    "    def fit(self, X, y):\n",
    " \n",
    "        for i in range(self.n_iter):\n",
    "            output = self.net_input(X)\n",
    "            errors = (y - output)\n",
    "            self.w_[1:] += self.eta * X.T.dot(errors)\n",
    "            self.w_[0] += self.eta * errors.sum()\n",
    "            cost = (errors**2).sum() / 2.0\n",
    "            self.cost_.append(cost)\n",
    "        return self\n",
    "\n",
    "    def net_input(self, X):\n",
    "        return np.dot(X, self.w_[1:]) + self.w_[0]\n",
    "\n",
    "    def predict(self, X):\n",
    "        return self.net_input(X)"
   ]
  },
  {
   "cell_type": "code",
   "execution_count": 240,
   "metadata": {},
   "outputs": [
    {
     "name": "stdout",
     "output_type": "stream",
     "text": [
      "\n",
      "[Quadratic]\n",
      "#Features: 78\n",
      "train sample discarded amount: 45 / 1491\n",
      "train sample discarded amount: 29 / 639\n",
      "MSE train: 3588.58, test: 3733.88\n",
      "R^2 train: 0.72, test: 0.72\n"
     ]
    },
    {
     "data": {
      "image/png": "[encoded data removed]",
      "text/plain": [
       "<Figure size 432x288 with 1 Axes>"
      ]
     },
     "metadata": {},
     "output_type": "display_data"
    }
   ],
   "source": [
    "from sklearn.preprocessing import PolynomialFeatures\n",
    "# regr = LinearRegressionGD()\n",
    "# quadratic = PolynomialFeatures(degree=2)\n",
    "\n",
    "# regr = LinearRegressionGD(n_iter=50,n_cell = X_train_std.shape[1]+1)\n",
    "# print('[Linear]')\n",
    "# print('#Features: %d' % X_train_std.shape[1])\n",
    "# regr = regr.fit(X_train_std, y_train)\n",
    "# y_train_pred = regr.predict(X_train_std)\n",
    "# y_test_pred = regr.predict(X_test_std)\n",
    "# print('MSE train: %.2f, test: %.2f' %\n",
    "#       (mean_squared_error(y_train, y_train_pred),\n",
    "#        mean_squared_error(y_test, y_test_pred)))\n",
    "# print('R^2 train: %.2f, test: %.2f' % (r2_score(y_train, y_train_pred),\n",
    "#                                        r2_score(y_test, y_test_pred)))\n",
    "# plot_resid(y_train_pred,y_train)\n",
    "\n",
    "\n",
    "\n",
    "print('\\n[Quadratic]')\n",
    "X_quad_train = quadratic.fit_transform(X_train_std)\n",
    "X_quad_test = quadratic.fit_transform(X_test_std)\n",
    "\n",
    "print('#Features: %d' % X_quad_train.shape[1])\n",
    "\n",
    "regr = LinearRegressionGD(eta = 0.0000012,n_iter = 5000,n_cell = X_quad_train.shape[1]+1)\n",
    "regr = regr.fit(X_quad_train, y_train)\n",
    "y_train_pred = regr.predict(X_quad_train)\n",
    "y_test_pred = regr.predict(X_quad_test)\n",
    "# print(np.where((abs(y_train_pred-y_train))>10))\n",
    "z = np.where((abs(y_train_pred-y_train))<160)\n",
    "z2 = np.where((abs(y_test-y_test_pred))<160)\n",
    "print('train sample discarded amount:',len(y_train) - len(y_train[z]),'/',len(y_train))\n",
    "print('train sample discarded amount:',len(y_test) - len(y_test[z2]),'/',len(y_test))\n",
    "\n",
    "print('MSE train: %.2f, test: %.2f' %\n",
    "      (mean_squared_error(y_train[z], y_train_pred[z]),\n",
    "       mean_squared_error(y_test[z2], y_test_pred[z2])))\n",
    "\n",
    "\n",
    "print('R^2 train: %.2f, test: %.2f' % (r2_score(y_train[z], y_train_pred[z]),\n",
    "                                       r2_score(y_test[z2], y_test_pred[z2])))\n",
    "plot_resid(y_train_pred,y_train)\n"
   ]
  },
  {
   "cell_type": "code",
   "execution_count": 217,
   "metadata": {},
   "outputs": [
    {
     "name": "stdout",
     "output_type": "stream",
     "text": [
      "\n",
      "[Cubic]\n",
      "#Features: 364\n",
      "train sample discarded amount: 70 / 1491\n",
      "train sample discarded amount: 42 / 639\n",
      "MSE train: 3599.85, test: 4334.12\n",
      "R^2 train: 0.71, test: 0.66\n"
     ]
    },
    {
     "data": {
      "image/png": "[encoded data removed]",
      "text/plain": [
       "<Figure size 432x288 with 1 Axes>"
      ]
     },
     "metadata": {},
     "output_type": "display_data"
    }
   ],
   "source": [
    "\n",
    "\n",
    "cubic = PolynomialFeatures(degree=3)\n",
    "\n",
    "print('\\n[Cubic]')\n",
    "X_cubic_train = cubic.fit_transform(X_train_std)\n",
    "X_cubic_test = cubic.fit_transform(X_test_std)\n",
    "# regr = LinearRegressionGD(eta = 0.000000001,n_iter = 5000,n_cell = X_cubic_train.shape[1]+1)\n",
    "\n",
    "print('#Features: %d' % X_cubic_train.shape[1])\n",
    "regr = regr.fit(X_cubic_train, y_train)\n",
    "y_train_pred = regr.predict(X_cubic_train)\n",
    "y_test_pred = regr.predict(X_cubic_test)\n",
    "\n",
    "z = np.where((abs(y_train_pred-y_train))<160)\n",
    "z2 = np.where((abs(y_test-y_test_pred))<160)\n",
    "print('train sample discarded amount:',len(y_train) - len(y_train[z]),'/',len(y_train))\n",
    "print('train sample discarded amount:',len(y_test) - len(y_test[z2]),'/',len(y_test))\n",
    "\n",
    "print('MSE train: %.2f, test: %.2f' %\n",
    "      (mean_squared_error(y_train[z], y_train_pred[z]),\n",
    "       mean_squared_error(y_test[z2], y_test_pred[z2])))\n",
    "\n",
    "\n",
    "print('R^2 train: %.2f, test: %.2f' % (r2_score(y_train[z], y_train_pred[z]),\n",
    "                                       r2_score(y_test[z2], y_test_pred[z2])))\n",
    "\n",
    "plot_resid(y_train_pred,y_train)"
   ]
  },
  {
   "cell_type": "code",
   "execution_count": 250,
   "metadata": {},
   "outputs": [
    {
     "name": "stdout",
     "output_type": "stream",
     "text": [
      "\n",
      "[quad]\n",
      "#Features: 1365\n",
      "train sample discarded amount: 447 / 1491\n",
      "train sample discarded amount: 197 / 639\n",
      "MSE train: 5933.65, test: 5233.86\n",
      "R^2 train: -1.78, test: -1.76\n"
     ]
    },
    {
     "data": {
      "image/png": "[encoded data removed]",
      "text/plain": [
       "<Figure size 432x288 with 1 Axes>"
      ]
     },
     "metadata": {},
     "output_type": "display_data"
    }
   ],
   "source": [
    "from sklearn.preprocessing import PolynomialFeatures\n",
    "quad = PolynomialFeatures(degree=4)\n",
    "\n",
    "print('\\n[quad]')\n",
    "X_quad_train = quad.fit_transform(X_train_std)\n",
    "X_quad_test = quad.fit_transform(X_test_std)\n",
    "# regr = LinearRegressionGD(eta = 1e-15,n_iter = 5000,n_cell = X_quad_train.shape[1]+1)\n",
    "\n",
    "print('#Features: %d' % X_quad_train.shape[1])\n",
    "regr = regr.fit(X_quad_train, y_train)\n",
    "y_train_pred = regr.predict(X_quad_train)\n",
    "y_test_pred = regr.predict(X_quad_test)\n",
    "\n",
    "z = np.where((abs(y_train_pred-y_train))<160)\n",
    "z2 = np.where((abs(y_test-y_test_pred))<160)\n",
    "print('train sample discarded amount:',len(y_train) - len(y_train[z]),'/',len(y_train))\n",
    "print('train sample discarded amount:',len(y_test) - len(y_test[z2]),'/',len(y_test))\n",
    "\n",
    "print('MSE train: %.2f, test: %.2f' %\n",
    "      (mean_squared_error(y_train[z], y_train_pred[z]),\n",
    "       mean_squared_error(y_test[z2], y_test_pred[z2])))\n",
    "\n",
    "\n",
    "print('R^2 train: %.2f, test: %.2f' % (r2_score(y_train[z], y_train_pred[z]),\n",
    "                                       r2_score(y_test[z2], y_test_pred[z2])))\n",
    "\n",
    "plot_resid(y_train_pred,y_train)"
   ]
  },
  {
   "cell_type": "code",
   "execution_count": 47,
   "metadata": {},
   "outputs": [
    {
     "name": "stdout",
     "output_type": "stream",
     "text": [
      "<bound method BaseEstimator.get_params of PolynomialFeatures(degree=4, include_bias=True, interaction_only=False)>\n"
     ]
    }
   ],
   "source": [
    "# print(y_test,y_test_pred)\n",
    "print(quad.)"
   ]
  },
  {
   "cell_type": "code",
   "execution_count": 9,
   "metadata": {},
   "outputs": [
    {
     "name": "stdout",
     "output_type": "stream",
     "text": [
      "MSE train: 201.72, test: 1485.69\n",
      "R^2 train: 0.99, test: 0.90\n"
     ]
    },
    {
     "data": {
      "image/png": "[encoded data removed]",
      "text/plain": [
       "<Figure size 432x288 with 1 Axes>"
      ]
     },
     "metadata": {},
     "output_type": "display_data"
    }
   ],
   "source": [
    "from sklearn.ensemble import RandomForestRegressor\n",
    "\n",
    "forest = RandomForestRegressor(\n",
    "    n_estimators=1000, criterion='mse', random_state=1, n_jobs=-1)\n",
    "forest.fit(X_train, y_train)\n",
    "y_train_pred = forest.predict(X_train)\n",
    "y_test_pred = forest.predict(X_test)\n",
    "\n",
    "print('MSE train: %.2f, test: %.2f' %\n",
    "      (mean_squared_error(y_train, y_train_pred),\n",
    "       mean_squared_error(y_test, y_test_pred)))\n",
    "print('R^2 train: %.2f, test: %.2f' % (r2_score(y_train, y_train_pred),\n",
    "                                       r2_score(y_test, y_test_pred)))\n",
    "\n",
    "# Residual plot\n",
    "plt.scatter(\n",
    "    y_train_pred,\n",
    "    y_train_pred - y_train,\n",
    "    c='blue',\n",
    "    marker='o',\n",
    "    label='Training data')\n",
    "plt.scatter(\n",
    "    y_test_pred, y_test_pred - y_test, c='green', marker='s', label='Test data')\n",
    "\n",
    "plt.xlabel('Predicted values')\n",
    "plt.ylabel('Residuals')\n",
    "plt.legend(loc='upper left')\n",
    "plt.hlines(y=0, xmin=-10, xmax=50, lw=2, color='red')\n",
    "plt.xlim([-10, 50])\n",
    "plt.tight_layout()\n",
    "plt.show()\n"
   ]
  }
 ],
 "metadata": {
  "kernelspec": {
   "display_name": "Python 3",
   "language": "python",
   "name": "python3"
  },
  "language_info": {
   "codemirror_mode": {
    "name": "ipython",
    "version": 3
   },
   "file_extension": ".py",
   "mimetype": "text/x-python",
   "name": "python",
   "nbconvert_exporter": "python",
   "pygments_lexer": "ipython3",
   "version": "3.6.5"
  }
 },
 "nbformat": 4,
 "nbformat_minor": 2
}
