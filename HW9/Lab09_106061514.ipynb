{
 "cells": [
  {
   "cell_type": "code",
   "execution_count": 5,
   "metadata": {},
   "outputs": [
    {
     "name": "stdout",
     "output_type": "stream",
     "text": [
      "1.11.0\n"
     ]
    }
   ],
   "source": [
    "import os\n",
    "os.environ['CUDA_VISIBLE_DEVICES'] = \"3\" # choose which GPU you want to use\n",
    "\n",
    "from tempfile import gettempdir\n",
    "import urllib\n",
    "import zipfile\n",
    "import numpy as np\n",
    "import random\n",
    "import matplotlib.pyplot as plt\n",
    "\n",
    "import tensorflow as tf\n",
    "print(tf.__version__)"
   ]
  },
  {
   "cell_type": "code",
   "execution_count": 6,
   "metadata": {},
   "outputs": [
    {
     "name": "stdout",
     "output_type": "stream",
     "text": [
      "Extracting data\\train-images-idx3-ubyte.gz\n",
      "Extracting data\\train-labels-idx1-ubyte.gz\n",
      "Extracting data\\t10k-images-idx3-ubyte.gz\n",
      "Extracting data\\t10k-labels-idx1-ubyte.gz\n"
     ]
    }
   ],
   "source": [
    "from tensorflow.examples.tutorials.mnist import input_data\n",
    "# load mnist data\n",
    "mnist = input_data.read_data_sets(\"data\", one_hot=True)\n"
   ]
  },
  {
   "cell_type": "code",
   "execution_count": 162,
   "metadata": {},
   "outputs": [
    {
     "name": "stdout",
     "output_type": "stream",
     "text": [
      "full connected layer 1 w\n",
      "[[-6.2220893  -0.53706723  2.9599993  -5.7578382   6.3434434  -6.9728923 ]\n",
      " [ 4.6419377  -0.22326803 -5.282519    7.6141953  -4.604753   -6.415772  ]]\n",
      "full connected layer 1 bias\n",
      "[-1.9162577  -0.90517175 -0.7304128   2.4763248   1.9582983   2.0814915 ]\n",
      "full connected layer 1 w\n",
      "[[ 4.6504145 ]\n",
      " [ 0.54976463]\n",
      " [ 3.1749053 ]\n",
      " [-3.4743433 ]\n",
      " [-1.9929037 ]\n",
      " [-3.0789042 ]]\n",
      "full connected layer 1 bias\n",
      "[2.1787846]\n",
      "acc: 1.0\n"
     ]
    }
   ],
   "source": [
    "# setting \n",
    "feature_dims = 2\n",
    "neurons = 5\n",
    "classes = 1\n",
    "learning_rate = 0.1\n",
    "def fully_connected_layer(x_inputs, out_dim, name='fc'):\n",
    "    \"\"\" Low level method\n",
    "        x_inputs: a batch examples [batch_size, feature_dims]\n",
    "        out_dim: neurons in this layer.\n",
    "    \"\"\" \n",
    "    in_dim = x_inputs.shape[-1] # feature_dims\n",
    "    with tf.variable_scope(name, reuse=tf.AUTO_REUSE):\n",
    "        weights = tf.get_variable(\"weights\", shape=[in_dim, out_dim])\n",
    "        bias = tf.get_variable(\"bias\", shape=[out_dim])\n",
    "        out = tf.matmul(x_inputs, weights) + bias\n",
    "        return out\n",
    "# xor task\n",
    "xor_data = np.array([[1, 0],\n",
    "                    [0, 1],\n",
    "                    [1, 1],\n",
    "                    [0, 0]])\n",
    "xor_label = np.array([[1], [1], [0], [0]])\n",
    "\n",
    "with tf.Graph().as_default() as g:\n",
    "    x_input = tf.placeholder(tf.float32, [None, 2])\n",
    "    y_label = tf.placeholder(tf.float32, [None, 1])\n",
    "    # start building your model and meet the requirements\n",
    "    # from here\n",
    "    \n",
    "    out = fully_connected_layer(x_input,6,'L1')\n",
    "    out = fully_connected_layer( tf.sigmoid(out),1, \"L2\")\n",
    "    out = tf.sigmoid(out)\n",
    "\n",
    "    loss = tf.reduce_mean((out-y_label)**2, name=\"Logist\")\n",
    "    optimizer = tf.train.AdamOptimizer(learning_rate)\n",
    "    \n",
    "    training_op = optimizer.minimize(loss,name = \"training_op\")\n",
    "    init = tf.global_variables_initializer()\n",
    "    \n",
    "\n",
    "with tf.Session(graph=g) as sess:\n",
    "    # start run the seesion and meet the requrements\n",
    "    # from here\n",
    "    sess.run(init)\n",
    "    for i in range(100):\n",
    "        sess.run([loss,training_op],feed_dict={x_input: xor_data,y_label: xor_label})\n",
    "        \n",
    "    x = sess.run(out,feed_dict={x_input: xor_data})\n",
    "    with tf.variable_scope(\"L1\", reuse=True):\n",
    "        print('full connected layer 1 w')\n",
    "        v = tf.get_variable(\"weights\")\n",
    "        print(sess.run(v))\n",
    "        \n",
    "        print('full connected layer 1 bias')\n",
    "        v = tf.get_variable(\"bias\")\n",
    "        print(sess.run(v))\n",
    "    with tf.variable_scope(\"L2\", reuse=True):\n",
    "        print('full connected layer 1 w')\n",
    "        v = tf.get_variable(\"weights\")\n",
    "        print(sess.run(v))\n",
    "        \n",
    "        print('full connected layer 1 bias')\n",
    "        v = tf.get_variable(\"bias\")\n",
    "        print(sess.run(v))\n",
    "        \n",
    "#         vs.\n",
    "#     var = [v for v in tf.trainable_variables()][0]\n",
    "    print('acc:',sum((xor_label==np.round(x))/4)[0])\n",
    "    "
   ]
  },
  {
   "cell_type": "code",
   "execution_count": 4,
   "metadata": {},
   "outputs": [
    {
     "data": {
      "image/png": "[encoded data removed]",
      "text/plain": [
       "<Figure size 1296x1296 with 5 Axes>"
      ]
     },
     "metadata": {},
     "output_type": "display_data"
    }
   ],
   "source": [
    "\n",
    "n = 5\n",
    "plt.figure(figsize=(18,18))\n",
    "for i in range(5):\n",
    "    plt.subplot(n, n, i+1)\n",
    "    plt.imshow(mnist.train.images[i].reshape(28,28), cmap='gray')\n",
    "    plt.title(np.argmax(mnist.train.labels[i]))\n",
    "    plt.xticks([])\n",
    "    plt.yticks([])\n",
    "plt.show()\n",
    "\n",
    "with tf.Graph().as_default() as g:\n",
    "    ## meet the requirements\n",
    "    ## then you will\n",
    "    pass\n",
    "\n",
    "with tf.Session(graph=g) as sess:\n",
    "    ## just do it\n",
    "    pass"
   ]
  }
 ],
 "metadata": {
  "kernelspec": {
   "display_name": "Python 3",
   "language": "python",
   "name": "python3"
  },
  "language_info": {
   "codemirror_mode": {
    "name": "ipython",
    "version": 3
   },
   "file_extension": ".py",
   "mimetype": "text/x-python",
   "name": "python",
   "nbconvert_exporter": "python",
   "pygments_lexer": "ipython3",
   "version": "3.6.5"
  }
 },
 "nbformat": 4,
 "nbformat_minor": 2
}
