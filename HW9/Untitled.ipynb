{
 "cells": [
  {
   "cell_type": "code",
   "execution_count": 8,
   "metadata": {},
   "outputs": [],
   "source": [
    "import numpy as np\n",
    "import tensorflow as tf\n",
    "x = np.arange(0, 10)\n",
    "# create dataset object from numpy array\n",
    "dx = tf.data.Dataset.from_tensor_slices((x,x))\n",
    "# create a one-shot iterator\n",
    "iterator = dx.make_one_shot_iterator()\n",
    "# extract an element\n",
    "next_element = iterator.get_next()"
   ]
  },
  {
   "cell_type": "code",
   "execution_count": 24,
   "metadata": {},
   "outputs": [
    {
     "name": "stdout",
     "output_type": "stream",
     "text": [
      "(1.0, array([0., 0., 0.]))\n",
      "(2.0, array([0., 0., 0.]))\n",
      "(3.0, array([0., 0., 0.]))\n",
      "(4.0, array([0., 0., 0.]))\n",
      "(5.0, array([0., 0., 0.]))\n"
     ]
    }
   ],
   "source": [
    "dataset = tf.data.Dataset.from_tensor_slices((np.array([1.0, 2.0, 3.0, 4.0, 5.0]),np.zeros((5,3))))\n",
    "iterator = dataset.make_one_shot_iterator()\n",
    "one_element = iterator.get_next()\n",
    "with tf.Session() as sess:\n",
    "    for i in range(5):\n",
    "        print(sess.run(one_element))\n",
    "        "
   ]
  },
  {
   "cell_type": "code",
   "execution_count": 102,
   "metadata": {},
   "outputs": [
    {
     "name": "stdout",
     "output_type": "stream",
     "text": [
      "Test accuracy: 0.966\n"
     ]
    }
   ],
   "source": [
    "import numpy as np\n",
    "import os\n",
    "import tensorflow as tf\n",
    "from tensorflow.contrib.framework import arg_scope\n",
    "from tensorflow.contrib.layers import fully_connected, batch_norm\n",
    "from tensorflow.examples.tutorials.mnist import input_data\n",
    "\n",
    "###### Do not modify here ###### \n",
    "def fully_connected_layer(x_inputs, out_dim, name='fc'):\n",
    "    \"\"\" Low level method\n",
    "        x_inputs: a batch examples [batch_size, feature_dims]\n",
    "        out_dim: neurons in this layer.\n",
    "    \"\"\" \n",
    "    in_dim = x_inputs.shape[-1] # feature_dims\n",
    "    \n",
    "    with tf.variable_scope(name, reuse=tf.AUTO_REUSE):\n",
    "        weights = tf.get_variable(\"weights\", shape=[in_dim, out_dim])\n",
    "        bias = tf.get_variable(\"bias\", shape=[out_dim])\n",
    "        out = tf.matmul(x_inputs, weights) + bias\n",
    "        return out\n",
    "# to make this notebook's output stable across runs\n",
    "def reset_graph(seed=42):\n",
    "    tf.reset_default_graph()\n",
    "    tf.set_random_seed(seed)\n",
    "    np.random.seed(seed)\n",
    "\n",
    "reset_graph()\n",
    "\n",
    "\n",
    "# mnist = input_data.read_data_sets(\"data\", one_hot=True)\n",
    "# mnist = input_data.read_data_sets(\"data\")\n",
    "if not mnist:\n",
    "    mnist = input_data.read_data_sets(\"data\")\n",
    "\n",
    "\n",
    "# training on MNIST but only on digits 0 to 4\n",
    "X_train1 = mnist.train.images\n",
    "y_train1 = mnist.train.labels\n",
    "\n",
    "X_test1 = mnist.test.images\n",
    "y_test1 = mnist.test.labels\n",
    "\n",
    "###### Do not modify here ###### \n",
    "\n",
    "#get next batch in order\n",
    "def next_batch(batch_size,iteration, data, labels):\n",
    "    start = batch_size*iteration\n",
    "    end = batch_size*(iteration+1)\n",
    "    return data[start:end], labels[start:end]\n",
    "\n",
    "#const parameters\n",
    "n_inputs = 784  # MNIST\n",
    "n_outputs = 10\n",
    "\n",
    "#adjustable parameters\n",
    "N_neurons = 128\n",
    "learning_rate = 0.01\n",
    "momentum = 0.25\n",
    "epochs = 2\n",
    "batch_size = 128  #for GPU optimize\n",
    "dropout = 0.5\n",
    "\n",
    "train_iterator = tf.data.Dataset.from_tensor_slices((mnist.train.images,mnist.train.labels)).make_one_shot_iterator()\n",
    "\n",
    "\n",
    "\n",
    "\n",
    "# X,y = train_iterator.get_next()\n",
    "# X = tf.manip.reshape(X,(784,1))\n",
    "# y = tf.manip.reshape(y,(1,))\n",
    "\n",
    "X = tf.placeholder(tf.float32, shape=(None, n_inputs), name=\"X\")\n",
    "y = tf.placeholder(tf.int64, shape=(None), name=\"y\")\n",
    "\n",
    "he_init = tf.contrib.layers.variance_scaling_initializer()\n",
    "\n",
    "W1 = tf.sigmoid(fully_connected_layer(X,N_neurons,name='L1'))\n",
    "W2 = tf.sigmoid(fully_connected_layer(W1,N_neurons,name='L2'))\n",
    "y_hat = fully_connected_layer(W2, n_outputs,name = 'L3')\n",
    "\n",
    "\n",
    "cross_entropy = tf.nn.sparse_softmax_cross_entropy_with_logits(labels=y, logits=y_hat)\n",
    "loss = tf.reduce_mean(cross_entropy, name=\"loss\")\n",
    "\n",
    "#use AdamOptimizer\n",
    "optimizer = tf.train.AdamOptimizer(learning_rate, momentum)\n",
    "training_op = optimizer.minimize(loss,name = \"training_op\")\n",
    "\n",
    "correct = tf.nn.in_top_k(y_hat,y,1)\n",
    "accuracy = tf.reduce_mean(tf.cast(correct,tf.float32), name=\"accuracy\")\n",
    "\n",
    "\n",
    "init = tf.global_variables_initializer()\n",
    "\n",
    "with tf.Session() as sess:\n",
    "    init.run()\n",
    "    \n",
    "    for epoch in range(epochs):\n",
    "        for iteration in range(len(X_train1)//batch_size):\n",
    "            X_batch, y_batch = next_batch(batch_size,iteration,X_train1, y_train1)\n",
    "            sess.run(training_op, feed_dict={ X: X_batch, y: y_batch})\n",
    "#             sess.run(training_op )\n",
    "            \n",
    "        acc_train = accuracy.eval(feed_dict={ X: X_batch, y: y_batch})\n",
    "        \n",
    "    acc_test = accuracy.eval(feed_dict={X:  X_test1, y:  y_test1})\n",
    "    \n",
    "    print( \"Test accuracy:\", acc_test)"
   ]
  },
  {
   "cell_type": "code",
   "execution_count": 51,
   "metadata": {},
   "outputs": [
    {
     "name": "stdout",
     "output_type": "stream",
     "text": [
      "Tensor(\"IteratorGetNext_1:0\", shape=(), dtype=int64)\n"
     ]
    }
   ],
   "source": [
    "iterator = tf.data.Iterator.from_structure(tf.int64, tf.TensorShape([]))\n",
    "\n",
    "dataset_range = tf.data.Dataset.range(10)\n",
    "range_initializer = iterator.make_initializer(dataset_range)\n",
    "\n",
    "dataset_evens = dataset_range.filter(lambda x: x % 2 == 0)\n",
    "\n",
    "evens_initializer = iterator.make_initializer(dataset_evens)\n",
    "next_element = iterator.get_next()\n",
    "print(next_element)"
   ]
  },
  {
   "cell_type": "code",
   "execution_count": null,
   "metadata": {},
   "outputs": [],
   "source": []
  }
 ],
 "metadata": {
  "kernelspec": {
   "display_name": "Python 3",
   "language": "python",
   "name": "python3"
  },
  "language_info": {
   "codemirror_mode": {
    "name": "ipython",
    "version": 3
   },
   "file_extension": ".py",
   "mimetype": "text/x-python",
   "name": "python",
   "nbconvert_exporter": "python",
   "pygments_lexer": "ipython3",
   "version": "3.6.5"
  }
 },
 "nbformat": 4,
 "nbformat_minor": 2
}
