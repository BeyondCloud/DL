{
 "cells": [
  {
   "cell_type": "code",
   "execution_count": 1,
   "metadata": {},
   "outputs": [
    {
     "name": "stderr",
     "output_type": "stream",
     "text": [
      "E:\\Anaconda\\lib\\site-packages\\gensim\\utils.py:1212: UserWarning: detected Windows; aliasing chunkize to chunkize_serial\n",
      "  warnings.warn(\"detected Windows; aliasing chunkize to chunkize_serial\")\n"
     ]
    }
   ],
   "source": [
    "import gensim"
   ]
  },
  {
   "cell_type": "code",
   "execution_count": 2,
   "metadata": {},
   "outputs": [],
   "source": [
    "import numpy as np\n",
    "cut_programs = np.load('cut_Programs.npy')"
   ]
  },
  {
   "cell_type": "code",
   "execution_count": 126,
   "metadata": {},
   "outputs": [],
   "source": [
    "import itertools\n",
    "document = []\n",
    "for prog in cut_programs:\n",
    "    for ep in prog:\n",
    "        document.append(list(itertools.chain.from_iterable(ep)))\n",
    "\n",
    "# document = cut_programs[0][0]\n",
    "# word2vec.Word2VecVocab(document)\n"
   ]
  },
  {
   "cell_type": "code",
   "execution_count": 127,
   "metadata": {},
   "outputs": [
    {
     "name": "stderr",
     "output_type": "stream",
     "text": [
      "WARNING:gensim.models.base_any2vec:consider setting layer size to a multiple of 4 for greater performance\n",
      "WARNING:gensim.models.base_any2vec:Effective 'alpha' higher than previous training cycles\n"
     ]
    },
    {
     "name": "stdout",
     "output_type": "stream",
     "text": [
      "done\n"
     ]
    }
   ],
   "source": [
    "from gensim.test.utils import common_texts, get_tmpfile\n",
    "from gensim.models import Word2Vec\n",
    "\n",
    "\n",
    "# sentences =[['This', 'is', 'a', 'pen'],['pen', 'can', 'write', 'thing']]\n",
    "\n",
    "# for s in sentences:\n",
    "#     print(s)\n",
    "\n",
    "model = Word2Vec(document,\n",
    "                 size=150, #Dimensionality of the word vectors.\n",
    "                 window=5,  #Maximum distance between the current and predicted word within a sentence.\n",
    "                 min_count=0,# Ignores all words with total frequency lower than this.\n",
    "                 workers=4)\n",
    "\n",
    "# model.build_vocab()\n",
    "model.train(document, total_examples=len(document), epochs=100)\n",
    "\n",
    "#保存模型，供日後使用\n",
    "model.save(\"word2vec.model\")\n",
    "print('done')"
   ]
  },
  {
   "cell_type": "code",
   "execution_count": 71,
   "metadata": {},
   "outputs": [
    {
     "name": "stdout",
     "output_type": "stream",
     "text": [
      "True\n"
     ]
    }
   ],
   "source": [
    "print(model.vocabulary.sorted_vocab)"
   ]
  },
  {
   "cell_type": "code",
   "execution_count": null,
   "metadata": {
    "collapsed": true
   },
   "outputs": [],
   "source": []
  },
  {
   "cell_type": "code",
   "execution_count": 136,
   "metadata": {},
   "outputs": [
    {
     "name": "stdout",
     "output_type": "stream",
     "text": [
      "鳥 0.567115068435669\n",
      "蝴蝶 0.5440858602523804\n",
      "牠們 0.535060465335846\n",
      "小雞 0.5241727232933044\n",
      "貓咪 0.51109778881073\n",
      "雛鳥 0.508812427520752\n",
      "猴子 0.5035423040390015\n",
      "兔子 0.5001194477081299\n",
      "鳥兒 0.49958428740501404\n",
      "動物 0.47184479236602783\n",
      "0.025487417\n"
     ]
    },
    {
     "name": "stderr",
     "output_type": "stream",
     "text": [
      "E:\\Anaconda\\lib\\site-packages\\gensim\\matutils.py:737: FutureWarning: Conversion of the second argument of issubdtype from `int` to `np.signedinteger` is deprecated. In future, it will be treated as `np.int32 == np.dtype(int).type`.\n",
      "  if np.issubdtype(vec.dtype, np.int):\n"
     ]
    }
   ],
   "source": [
    "w1 = \"小鳥\"\n",
    "w2 = \"義大利\"\n",
    "res = model.wv.most_similar(w1,topn = 10)\n",
    "\n",
    "for item in res:\n",
    "    print(item[0],str(item[1]))\n",
    "print(model.wv.similarity(w1,w2))\n"
   ]
  }
 ],
 "metadata": {
  "kernelspec": {
   "display_name": "Python 3",
   "language": "python",
   "name": "python3"
  },
  "language_info": {
   "codemirror_mode": {
    "name": "ipython",
    "version": 3
   },
   "file_extension": ".py",
   "mimetype": "text/x-python",
   "name": "python",
   "nbconvert_exporter": "python",
   "pygments_lexer": "ipython3",
   "version": "3.6.1"
  }
 },
 "nbformat": 4,
 "nbformat_minor": 2
}
