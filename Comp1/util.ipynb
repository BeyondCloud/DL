{
 "cells": [
  {
   "cell_type": "code",
   "execution_count": 38,
   "metadata": {
    "collapsed": true
   },
   "outputs": [],
   "source": [
    "import csv\n",
    "\n",
    "with open('output.csv', 'w', newline='') as csvfile:\n",
    "    writer = csv.writer(csvfile)\n",
    "    writer.writerow([\"Id\",\"Answer\"])\n",
    "    for i,val in enumerate(ans):\n",
    "        writer.writerow([ i, val])\n"
   ]
  },
  {
   "cell_type": "code",
   "execution_count": 40,
   "metadata": {},
   "outputs": [],
   "source": [
    "#dummy classifier\n",
    "import numpy as np\n",
    "ans = np.random.randint(6, size=(500, ))\n",
    "label = np.load('label.npy');"
   ]
  },
  {
   "cell_type": "code",
   "execution_count": 57,
   "metadata": {},
   "outputs": [
    {
     "name": "stdout",
     "output_type": "stream",
     "text": [
      "accuracy score: 0.534\n"
     ]
    }
   ],
   "source": [
    "a  = (ans==label)\n",
    "print('accuracy score:',sum(a)/500)"
   ]
  },
  {
   "cell_type": "code",
   "execution_count": 48,
   "metadata": {
    "collapsed": true
   },
   "outputs": [],
   "source": [
    "cut_ques = np.load('cut_Questions.npy')"
   ]
  },
  {
   "cell_type": "code",
   "execution_count": 56,
   "metadata": {},
   "outputs": [],
   "source": [
    "#for each question\n",
    "ans = np.zeros([500,])\n",
    "for q_id,question in enumerate(cut_ques):\n",
    "    lines = question[0]\n",
    "    d = set()\n",
    "    for line in lines:\n",
    "        for w in line:\n",
    "            d.add(w)\n",
    "    score = np.zeros([6,])\n",
    "    for i in range(1, 7):\n",
    "        line = question[i]\n",
    "        for w in line:\n",
    "            if w in d:\n",
    "                score[i-1] +=1\n",
    "    ans[q_id] = np.argmax(score)"
   ]
  },
  {
   "cell_type": "code",
   "execution_count": 54,
   "metadata": {},
   "outputs": [
    {
     "name": "stdout",
     "output_type": "stream",
     "text": [
      "True\n",
      "0\n"
     ]
    }
   ],
   "source": [
    "d = set()\n",
    "d.add('a')\n",
    "d.add('b')\n",
    "print('a' in d)\n",
    "g = np.array([4,2,3,1,4])\n",
    "print(np.argmax(g))"
   ]
  }
 ],
 "metadata": {
  "kernelspec": {
   "display_name": "Python 3",
   "language": "python",
   "name": "python3"
  },
  "language_info": {
   "codemirror_mode": {
    "name": "ipython",
    "version": 3
   },
   "file_extension": ".py",
   "mimetype": "text/x-python",
   "name": "python",
   "nbconvert_exporter": "python",
   "pygments_lexer": "ipython3",
   "version": "3.6.1"
  }
 },
 "nbformat": 4,
 "nbformat_minor": 2
}
