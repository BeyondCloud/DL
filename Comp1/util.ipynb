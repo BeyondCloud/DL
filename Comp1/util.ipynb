{
 "cells": [
  {
   "cell_type": "code",
   "execution_count": 38,
   "metadata": {
    "collapsed": true
   },
   "outputs": [],
   "source": [
    "# import csv\n",
    "\n",
    "# with open('output.csv', 'w', newline='') as csvfile:\n",
    "#     writer = csv.writer(csvfile)\n",
    "#     writer.writerow([\"Id\",\"Answer\"])\n",
    "#     for i,val in enumerate(ans):\n",
    "#         writer.writerow([ i, val])\n"
   ]
  },
  {
   "cell_type": "code",
   "execution_count": 18,
   "metadata": {
    "collapsed": true
   },
   "outputs": [],
   "source": [
    "\n",
    "import numpy as np\n",
    "# ans = np.random.randint(6, size=(500, ))\n",
    "label = np.load('label.npy');"
   ]
  },
  {
   "cell_type": "code",
   "execution_count": 6,
   "metadata": {},
   "outputs": [],
   "source": [
    "import numpy as np\n",
    "cut_ques = np.load('cut_Questions.npy')\n"
   ]
  },
  {
   "cell_type": "code",
   "execution_count": 4,
   "metadata": {},
   "outputs": [],
   "source": [
    "from gensim.test.utils import common_texts, get_tmpfile\n",
    "from gensim.models import word2vec\n",
    "model = word2vec.Word2Vec.load(\"word2vec.model\")\n"
   ]
  },
  {
   "cell_type": "code",
   "execution_count": 8,
   "metadata": {},
   "outputs": [
    {
     "name": "stdout",
     "output_type": "stream",
     "text": [
      "0.025487417\n",
      "0.025487417\n"
     ]
    },
    {
     "name": "stderr",
     "output_type": "stream",
     "text": [
      "E:\\Anaconda\\lib\\site-packages\\gensim\\matutils.py:737: FutureWarning: Conversion of the second argument of issubdtype from `int` to `np.signedinteger` is deprecated. In future, it will be treated as `np.int32 == np.dtype(int).type`.\n",
      "  if np.issubdtype(vec.dtype, np.int):\n"
     ]
    }
   ],
   "source": [
    "w1 = \"小鳥\"\n",
    "w2 = \"義大利\"\n",
    "# res = model.wv.most_similar(w1,topn = 10)\n",
    "# for item in res:\n",
    "#     print(item[0],str(item[1]))\n",
    "print(model.wv.similarity(w1,w2))\n"
   ]
  },
  {
   "cell_type": "code",
   "execution_count": 32,
   "metadata": {},
   "outputs": [
    {
     "name": "stderr",
     "output_type": "stream",
     "text": [
      "E:\\Anaconda\\lib\\site-packages\\gensim\\matutils.py:737: FutureWarning: Conversion of the second argument of issubdtype from `int` to `np.signedinteger` is deprecated. In future, it will be treated as `np.int32 == np.dtype(int).type`.\n",
      "  if np.issubdtype(vec.dtype, np.int):\n"
     ]
    }
   ],
   "source": [
    "#for each question\n",
    "ans = np.zeros([500,])\n",
    "for q_id,question in enumerate(cut_ques):\n",
    "    lines = question[0]\n",
    "    d = set()\n",
    "    for line in lines:\n",
    "        for words in line:\n",
    "#             d.add(words)\n",
    "            word = pseg.cut(words)\n",
    "            for w in word:\n",
    "                if w.flag != 'ADV':\n",
    "                    d.add(w.word)\n",
    "    score = np.zeros([6,])\n",
    "    for i in range(1, 7):\n",
    "        line = question[i]\n",
    "        for w in line:\n",
    "            for k in d:\n",
    "                try:\n",
    "                    score[i-1]+= np.power(model.wv.similarity(w,k),3)\n",
    "                except:pass\n",
    "        \n",
    "    ans[q_id] = np.argmax(score)"
   ]
  },
  {
   "cell_type": "code",
   "execution_count": 33,
   "metadata": {},
   "outputs": [
    {
     "name": "stdout",
     "output_type": "stream",
     "text": [
      "accuracy score: 0.574\n"
     ]
    }
   ],
   "source": [
    "a  = (ans==label)\n",
    "print('accuracy score:',sum(a)/500)"
   ]
  },
  {
   "cell_type": "code",
   "execution_count": 29,
   "metadata": {},
   "outputs": [
    {
     "data": {
      "text/plain": [
       "8"
      ]
     },
     "execution_count": 29,
     "metadata": {},
     "output_type": "execute_result"
    }
   ],
   "source": [
    "np.power(2,3)"
   ]
  },
  {
   "cell_type": "code",
   "execution_count": 12,
   "metadata": {},
   "outputs": [
    {
     "name": "stdout",
     "output_type": "stream",
     "text": [
      "a\n",
      "b\n",
      "0\n"
     ]
    }
   ],
   "source": [
    "d = set()\n",
    "d.add('a')\n",
    "d.add('b')\n",
    "for k in d:\n",
    "    print(k)\n",
    "g = np.array([4,2,3,1,4])\n",
    "print(np.argmax(g))"
   ]
  },
  {
   "cell_type": "code",
   "execution_count": 14,
   "metadata": {},
   "outputs": [],
   "source": [
    "import jieba\n",
    "import jieba.posseg as pseg\n",
    "jieba.set_dictionary('big5_dict.txt')\n",
    "example_str = '我討厭吃蘋果'\n",
    "words = pseg.cut(example_str)\n"
   ]
  },
  {
   "cell_type": "code",
   "execution_count": 75,
   "metadata": {},
   "outputs": [
    {
     "name": "stderr",
     "output_type": "stream",
     "text": [
      "Building prefix dict from C:\\Users\\Administrator\\Desktop\\DL\\Comp1\\big5_dict.txt ...\n",
      "Loading model from cache C:\\Users\\ADMINI~1\\AppData\\Local\\Temp\\jieba.u4db63a6c4a8ce99b1489a4d22431124c.cache\n",
      "Loading model cost 0.741 seconds.\n",
      "Prefix dict has been built succesfully.\n"
     ]
    },
    {
     "name": "stdout",
     "output_type": "stream",
     "text": [
      "我 N\n",
      "討厭 Vt\n",
      "吃 Vt\n",
      "蘋果 N\n"
     ]
    }
   ],
   "source": [
    "for w in words:\n",
    "    print('%s %s' % (w.word, w.flag))"
   ]
  }
 ],
 "metadata": {
  "kernelspec": {
   "display_name": "Python 3",
   "language": "python",
   "name": "python3"
  },
  "language_info": {
   "codemirror_mode": {
    "name": "ipython",
    "version": 3
   },
   "file_extension": ".py",
   "mimetype": "text/x-python",
   "name": "python",
   "nbconvert_exporter": "python",
   "pygments_lexer": "ipython3",
   "version": "3.6.1"
  }
 },
 "nbformat": 4,
 "nbformat_minor": 2
}
