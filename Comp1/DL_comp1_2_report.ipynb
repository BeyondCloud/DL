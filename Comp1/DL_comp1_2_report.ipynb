{
 "cells": [
  {
   "cell_type": "code",
   "execution_count": 7,
   "metadata": {
    "collapsed": true
   },
   "outputs": [
    {
     "name": "stdout",
     "output_type": "stream",
     "text": [
      "Program 1\n",
      "Episodes: 1299\n",
      "Index(['Content'], dtype='object')\n",
      "\n",
      "0    還好天氣不錯\\n昨天晚上的流星雨\\n我看到很多流星\\n這次的收穫真豐富\\n當然豐富啦\\n我就...\n",
      "1    好熱喔\\n這種倉庫很不通風\\n好熱喔\\n受不了\\n今天天氣真的是太熱了\\n我都快中暑了\\n那...\n",
      "Name: Content, dtype: object\n",
      "\n",
      "Program 2\n",
      "Episodes: 205\n",
      "Index(['Content'], dtype='object')\n",
      "\n",
      "0    我們現在只差兩分\\n只差兩分\\n等下阿偉先站過來\\n他們會埋伏一個射手出來\\n我們盡量把他堵...\n",
      "1    四十年前\\n我媽為了養我跟我哥\\n開這間理髮店\\n她把手藝都傳給哥\\n希望他可以接下這間店\\...\n",
      "Name: Content, dtype: object\n",
      "\n",
      "Program 3\n",
      "Episodes: 57\n",
      "Index(['Content'], dtype='object')\n",
      "\n",
      "0    台南人劇團\\n一個從古都台南輸出的\\n現代劇團\\n每年總有令人驚奇的戲劇產生\\n玩大師\\n莎...\n",
      "1    一齣舞台劇\\n這個舞台劇的結果\\n所有觀眾都知道\\n兩個演員在舞台上\\n撐了一百多分鐘\\n目...\n",
      "Name: Content, dtype: object\n",
      "\n",
      "Program 4\n",
      "Episodes: 10\n",
      "Index(['Content'], dtype='object')\n",
      "\n",
      "0    念書幹嘛偷光\\n燈一開就有了啊\\n太陽是不是從樹葉之間的\\n這個縫灑下來\\n然後在地上啊\\n...\n",
      "1    倫語社\\n效果立竿見影\\n立竿見影\\n這也是指很快囉\\n但是它和曇花一現\\n有什麼不一樣\\n...\n",
      "Name: Content, dtype: object\n",
      "\n",
      "Program 5\n",
      "Episodes: 369\n",
      "Index(['Content'], dtype='object')\n",
      "\n",
      "0    公平的對待\\n孩子才會樂於做良性的競爭\\n這樣一來\\n真正有實力的人才不會被埋沒\\n老師好\\...\n",
      "1    你們看\\n我臉上的痘痘\\n畫了粧之後就沒那麼明顯了\\n就算熬夜K書\\n長了黑眼圈也不怕\\n你...\n",
      "Name: Content, dtype: object\n",
      "\n",
      "Program 6\n",
      "Episodes: 80\n",
      "Index(['Content'], dtype='object')\n",
      "\n",
      "0    在這個世上\\n既能解放你滿肚子壓力\\n又讓你避之唯恐不及的\\n只有馬桶\\n但是如果你到現在還...\n",
      "1    你相信嗎\\n全球十大致人於死的動物榜首是誰\\n獅子嗎\\n不是\\n鱷魚嗎\\nNo\\n答案竟然是...\n",
      "Name: Content, dtype: object\n",
      "\n",
      "Program 7\n",
      "Episodes: 611\n",
      "Index(['Content'], dtype='object')\n",
      "\n",
      "0    嗨, 大家好\\n歡迎收看「聽聽看」\\n你這個禮拜過得好不好呢\\n有沒有什麼新鮮事\\n要和朋友...\n",
      "1    你今天是不是跟我一樣\\n早就迫不及待的\\n想要收看我們「聽聽看」了呢\\n怎麼樣\\n上個禮拜的...\n",
      "Name: Content, dtype: object\n",
      "\n",
      "Program 8\n",
      "Episodes: 210\n",
      "Index(['Content'], dtype='object')\n",
      "\n",
      "0    每天帶你拜訪一個家庭\\n邀請一位貴賓和他們共進晚餐\\n談談人生大小事\\n但如果登門拜訪的\\n...\n",
      "1    如果用一句話\\n來形容吃飯這件事情\\n那句話應該就是體驗人生\\n今天的「誰來晚餐」\\n發生在...\n",
      "Name: Content, dtype: object\n",
      "\n"
     ]
    }
   ],
   "source": [
    "# %matplotlib inline\n",
    "# import pandas as pd\n",
    "\n",
    "# NUM_PROGRAM = 8\n",
    "# programs = []\n",
    "# for i in range(1, NUM_PROGRAM+1):\n",
    "#     program = pd.read_csv('Program0%d.csv' % (i))\n",
    "    \n",
    "#     print('Program %d' % (i))\n",
    "#     print('Episodes: %d' % (len(program)))\n",
    "#     print(program.columns)\n",
    "#     print()\n",
    "    \n",
    "#     print(program.loc[:1]['Content'])\n",
    "#     print()\n",
    "    \n",
    "#     programs.append(program)"
   ]
  },
  {
   "cell_type": "code",
   "execution_count": 9,
   "metadata": {
    "collapsed": true
   },
   "outputs": [
    {
     "name": "stdout",
     "output_type": "stream",
     "text": [
      "Question\n",
      "Episodes: 500\n",
      "Index(['Question', 'Option0', 'Option1', 'Option2', 'Option3', 'Option4',\n",
      "       'Option5'],\n",
      "      dtype='object')\n",
      "\n",
      "0    媽給你送錢包來啦 來 你看一下是不是這個\\n對 就是這個 你在哪裡找到它的\\n\n",
      "1             古人說三日不讀書 面目可憎 我覺得我最近可能臉色太難看了\\n\n",
      "2                         你說我們做父母的最擔心的就是這個\\n\n",
      "Name: Question, dtype: object\n",
      "\n",
      "0        你看 這是我新買的錢包\n",
      "1    所以想回復我昔日面貌姣好的樣子\n",
      "2      我剛剛聽你媽說你要讀什麼科\n",
      "Name: Option0, dtype: object\n",
      "\n",
      "0     我的錢包不見了啦\n",
      "1    是不是要定期來舉辦\n",
      "2    其他老師又集體叛變\n",
      "Name: Option1, dtype: object\n",
      "\n",
      "0    以後上網咖的錢包在我身上\n",
      "1         各辦理一次才對\n",
      "2        聽起來好好玩天啊\n",
      "Name: Option2, dtype: object\n",
      "\n",
      "0                          什麼有錢包場\n",
      "1                     能夠督促所有的用人機關\n",
      "2    只是小孩自己的興趣不能得到發展 他們的心裡可能也會很悶喔\n",
      "Name: Option3, dtype: object\n",
      "\n",
      "0    早上你爸爸在車上找到的 一定是前天你放學的時候掉在車上了\n",
      "1                   在上次的節目討論中也有提到\n",
      "2                      走到這裡就沒有路了耶\n",
      "Name: Option4, dtype: object\n",
      "\n",
      "0         我為什麼要給你們錢包\n",
      "1           超過九十分貝以上\n",
      "2    每一個科目像是國語數學都很優秀\n",
      "Name: Option5, dtype: object\n",
      "\n"
     ]
    }
   ],
   "source": [
    "import pandas as pd\n",
    "\n",
    "questions = pd.read_csv('Question.csv')\n",
    "\n",
    "print('Question')\n",
    "print('Episodes: %d' % (len(questions)))\n",
    "print(questions.columns)\n",
    "print()\n",
    "\n",
    "print(questions.loc[:2]['Question'])\n",
    "print()\n",
    "\n",
    "for i in range(6):\n",
    "    print(questions.loc[:2]['Option%d' % (i)])\n",
    "    print()"
   ]
  },
  {
   "cell_type": "code",
   "execution_count": 11,
   "metadata": {},
   "outputs": [
    {
     "name": "stderr",
     "output_type": "stream",
     "text": [
      "Building prefix dict from C:\\Users\\a1989\\Desktop\\DL\\Comp1\\big5_dict.txt ...\n",
      "Loading model from cache C:\\Users\\a1989\\AppData\\Local\\Temp\\jieba.u13ee1a1953b639ea7ba618182ba7d2dd.cache\n",
      "Loading model cost 1.746 seconds.\n",
      "Prefix dict has been built succesfully.\n"
     ]
    },
    {
     "name": "stdout",
     "output_type": "stream",
     "text": [
      "['我', '討厭', '吃', '蘋果']\n"
     ]
    }
   ],
   "source": [
    "import jieba\n",
    "\n",
    "jieba.set_dictionary('big5_dict.txt')\n",
    "example_str = '我討厭吃蘋果'\n",
    "cut_example_str = jieba.lcut(example_str)\n",
    "print(cut_example_str)"
   ]
  },
  {
   "cell_type": "code",
   "execution_count": 5,
   "metadata": {},
   "outputs": [],
   "source": [
    "def jieba_lines(lines):\n",
    "    cut_lines = []\n",
    "    \n",
    "    for line in lines:\n",
    "        cut_line = jieba.lcut(line)\n",
    "        cut_lines.append(cut_line)\n",
    "    \n",
    "    return cut_lines"
   ]
  },
  {
   "cell_type": "code",
   "execution_count": 11,
   "metadata": {},
   "outputs": [],
   "source": [
    "# cut_programs = []\n",
    "\n",
    "# for program in programs:\n",
    "#     episodes = len(program)\n",
    "#     cut_program = []\n",
    "    \n",
    "#     for episode in range(episodes):\n",
    "#         lines = program.loc[episode]['Content'].split('\\n')\n",
    "#         cut_program.append(jieba_lines(lines))\n",
    "    \n",
    "#     cut_programs.append(cut_program)"
   ]
  },
  {
   "cell_type": "code",
   "execution_count": 3,
   "metadata": {},
   "outputs": [],
   "source": [
    "# import pickle\n",
    "\n",
    "# # with open('cut.pkl', 'wb') as f:\n",
    "# #     pickle.dump(cut_programs, f)\n",
    "# with open('cut.pkl', 'rb') as f:\n",
    "#     cut_programs = pickle.load(f)"
   ]
  },
  {
   "cell_type": "code",
   "execution_count": 4,
   "metadata": {},
   "outputs": [
    {
     "name": "stdout",
     "output_type": "stream",
     "text": [
      "8 programs\n",
      "1299 episodes in program 0\n",
      "635 lines in first episode of program 0\n",
      "\n",
      "first 3 lines in 1st episode of program 0: \n",
      "[['還好', '天氣', '不錯'], ['昨天', '晚上', '的', '流星雨'], ['我', '看到', '很多', '流星']]\n"
     ]
    }
   ],
   "source": [
    "print(\"%d programs\" % len(cut_programs))\n",
    "print(\"%d episodes in program 0\" % len(cut_programs[0]))\n",
    "print(\"%d lines in first episode of program 0\" % len(cut_programs[0][0]))\n",
    "\n",
    "print()\n",
    "print(\"first 3 lines in 1st episode of program 0: \")\n",
    "print(cut_programs[0][0][:3])"
   ]
  },
  {
   "cell_type": "code",
   "execution_count": 12,
   "metadata": {},
   "outputs": [],
   "source": [
    "cut_questions = []\n",
    "n = len(questions)\n",
    "\n",
    "for i in range(n):\n",
    "    cut_question = []\n",
    "    lines = questions.loc[i]['Question'].split('\\n')\n",
    "    cut_question.append(jieba_lines(lines))\n",
    "    \n",
    "    for j in range(6):\n",
    "        line = questions.loc[i]['Option%d' % (j)]\n",
    "        cut_question.append(jieba.lcut(line))\n",
    "    \n",
    "    cut_questions.append(cut_question)"
   ]
  },
  {
   "cell_type": "code",
   "execution_count": 13,
   "metadata": {},
   "outputs": [
    {
     "name": "stdout",
     "output_type": "stream",
     "text": [
      "500 questions\n",
      "7\n",
      "[['媽給', '你', '送', '錢包', '來', '啦', ' ', '來', ' ', '你', '看', '一下', '是', '不', '是', '這個'], ['對', ' ', '就是', '這個', ' ', '你', '在', '哪裡', '找到', '它', '的'], []]\n",
      "['你', '看', ' ', '這是', '我', '新', '買', '的', '錢包']\n",
      "['我', '的', '錢包', '不見了', '啦']\n",
      "['以後', '上', '網咖', '的', '錢包', '在', '我', '身上']\n",
      "['什麼', '有', '錢包', '場']\n",
      "['早上', '你', '爸爸', '在', '車上', '找到', '的', ' ', '一定', '是', '前天', '你', '放學', '的', '時候', '掉', '在', '車上', '了']\n",
      "['我', '為什麼', '要給', '你們', '錢包']\n"
     ]
    }
   ],
   "source": [
    "print(\"%d questions\" % len(cut_questions))\n",
    "print(len(cut_questions[0]))\n",
    "\n",
    "# 1 question\n",
    "print(cut_questions[0][0])\n",
    "\n",
    "# 6 optional reponses\n",
    "for i in range(1, 7):\n",
    "    print(cut_questions[0][i])"
   ]
  },
  {
   "cell_type": "code",
   "execution_count": 14,
   "metadata": {},
   "outputs": [],
   "source": [
    "# import numpy as np\n",
    "\n",
    "# np.save('cut_Programs.npy', cut_programs)\n",
    "# np.save('cut_Questions.npy', cut_questions)"
   ]
  },
  {
   "cell_type": "code",
   "execution_count": 15,
   "metadata": {},
   "outputs": [],
   "source": [
    "cut_programs = np.load('cut_Programs.npy')\n",
    "cut_Question = np.load('cut_Questions.npy')"
   ]
  },
  {
   "cell_type": "code",
   "execution_count": 16,
   "metadata": {},
   "outputs": [
    {
     "name": "stdout",
     "output_type": "stream",
     "text": [
      "Total 174420 words in word_dict\n"
     ]
    }
   ],
   "source": [
    "word_dict = dict()\n",
    "def add_word_dict(w):\n",
    "    if not w in word_dict:\n",
    "        word_dict[w] = 1\n",
    "    else:\n",
    "        word_dict[w] += 1\n",
    "for program in cut_programs:\n",
    "    for lines in program:\n",
    "        for line in lines:\n",
    "            for w in line:\n",
    "                add_word_dict(w)\n",
    "for question in cut_questions:\n",
    "    lines = question[0]\n",
    "    for line in lines:\n",
    "        for w in line:\n",
    "            add_word_dict(w)\n",
    "    \n",
    "    for i in range(1, 7):\n",
    "        line = question[i]\n",
    "        for w in line:\n",
    "            add_word_dict(w)\n",
    "import operator\n",
    "\n",
    "word_dict = sorted(word_dict.items(), key=operator.itemgetter(1), reverse=True)\n",
    "print(\"Total %d words in word_dict\" % len(word_dict))"
   ]
  },
  {
   "cell_type": "code",
   "execution_count": 17,
   "metadata": {},
   "outputs": [
    {
     "name": "stdout",
     "output_type": "stream",
     "text": [
      "[('他', 81632), ('也', 77206), ('就是', 75579), ('說', 74281), ('來', 68735), ('會', 67933), ('那', 66863), ('喔', 61530), ('可以', 60268), ('跟', 60056)]\n",
      "\n",
      "Total 15000 words in voc_dict\n"
     ]
    }
   ],
   "source": [
    "VOC_SIZE = 15000\n",
    "VOC_START = 20\n",
    "\n",
    "voc_dict = word_dict[VOC_START:VOC_START+VOC_SIZE]\n",
    "print(voc_dict[:10])\n",
    "print()\n",
    "print(\"Total %d words in voc_dict\" % len(voc_dict))\n",
    "np.save('voc_dict.npy', voc_dict)"
   ]
  },
  {
   "cell_type": "code",
   "execution_count": 18,
   "metadata": {},
   "outputs": [],
   "source": [
    "voc_dict = np.load('voc_dict.npy')"
   ]
  },
  {
   "cell_type": "code",
   "execution_count": 23,
   "metadata": {},
   "outputs": [],
   "source": [
    "import random\n",
    "NUM_PROGRAM = 8\n",
    "NUM_TRAIN = 10000\n",
    "TRAIN_VALID_RATE = 0.7"
   ]
  },
  {
   "cell_type": "code",
   "execution_count": 24,
   "metadata": {},
   "outputs": [],
   "source": [
    "def generate_training_data():\n",
    "    Xs, Ys = [], []\n",
    "    \n",
    "    for i in range(NUM_TRAIN):\n",
    "        pos_or_neg = random.randint(0, 1)\n",
    "        \n",
    "        if pos_or_neg==1:\n",
    "            program_id = random.randint(0, NUM_PROGRAM-1)\n",
    "            episode_id = random.randint(0, len(cut_programs[program_id])-1)\n",
    "            line_id = random.randint(0, len(cut_programs[program_id][episode_id])-2)\n",
    "            \n",
    "            Xs.append([cut_programs[program_id][episode_id][line_id], \n",
    "                       cut_programs[program_id][episode_id][line_id+1]])\n",
    "            Ys.append(1)\n",
    "            \n",
    "        else:\n",
    "            first_program_id = random.randint(0, NUM_PROGRAM-1)\n",
    "            first_episode_id = random.randint(0, len(cut_programs[first_program_id])-1)\n",
    "            first_line_id = random.randint(0, len(cut_programs[first_program_id][first_episode_id])-1)\n",
    "            \n",
    "            second_program_id = random.randint(0, NUM_PROGRAM-1)\n",
    "            second_episode_id = random.randint(0, len(cut_programs[second_program_id])-1)\n",
    "            second_line_id = random.randint(0, len(cut_programs[second_program_id][second_episode_id])-1)\n",
    "            \n",
    "            Xs.append([cut_programs[first_program_id][first_episode_id][first_line_id], \n",
    "                       cut_programs[second_program_id][second_episode_id][second_line_id]])\n",
    "            Ys.append(0)\n",
    "    \n",
    "    return Xs, Ys"
   ]
  },
  {
   "cell_type": "code",
   "execution_count": 25,
   "metadata": {},
   "outputs": [],
   "source": [
    "\n",
    "Xs, Ys = generate_training_data()\n",
    "\n",
    "x_train, y_train = Xs[:int(NUM_TRAIN*TRAIN_VALID_RATE)], Ys[:int(NUM_TRAIN*TRAIN_VALID_RATE)]\n",
    "x_valid, y_valid = Xs[int(NUM_TRAIN*TRAIN_VALID_RATE):], Ys[int(NUM_TRAIN*TRAIN_VALID_RATE):]"
   ]
  },
  {
   "cell_type": "code",
   "execution_count": 26,
   "metadata": {},
   "outputs": [
    {
     "name": "stdout",
     "output_type": "stream",
     "text": [
      "['還好 天氣 不錯 ', '昨天 晚上 ', '看到 很多 流星 ', '這次 收穫 真 豐富 ', '當然 豐富 啦 ', '說 嘛 ', '精心 製作 ', '被 一個 人 吃掉 ', '真的 嗎 ', '不要 忘記 做 秘密 檔案 ']\n"
     ]
    }
   ],
   "source": [
    "example_doc = []\n",
    "\n",
    "# lines in 1st episode in program 0 \n",
    "for line in cut_programs[0][0]:\n",
    "    example_line = ''\n",
    "    for w in line:\n",
    "        if w in voc_dict:\n",
    "            example_line += w+' '\n",
    "        \n",
    "    example_doc.append(example_line)\n",
    "\n",
    "print(example_doc[:10])"
   ]
  },
  {
   "cell_type": "code",
   "execution_count": 27,
   "metadata": {},
   "outputs": [
    {
     "name": "stdout",
     "output_type": "stream",
     "text": [
      "[vocabulary]\n",
      "\n",
      "還好 469\n",
      "天氣 168\n",
      "不錯 46\n",
      "昨天 268\n",
      "晚上 270\n",
      "看到 352\n",
      "很多 217\n",
      "流星 310\n",
      "這次 456\n",
      "收穫 259\n"
     ]
    }
   ],
   "source": [
    "import scipy as sp\n",
    "from sklearn.feature_extraction.text import CountVectorizer\n",
    "\n",
    "# ngram_range=(min, max), default: 1-gram => (1, 1)\n",
    "count = CountVectorizer(ngram_range=(1, 1))\n",
    "\n",
    "count.fit(example_doc)\n",
    "BoW = count.vocabulary_\n",
    "print('[vocabulary]\\n')\n",
    "for key in list(BoW.keys())[:10]:\n",
    "    print('%s %d' % (key, BoW[key]))"
   ]
  },
  {
   "cell_type": "code",
   "execution_count": 28,
   "metadata": {},
   "outputs": [
    {
     "name": "stdout",
     "output_type": "stream",
     "text": [
      " (lid, vid)     tf\n",
      "  (0, 46)\t1\n",
      "  (0, 168)\t1\n",
      "  (0, 469)\t1\n",
      "  (1, 268)\t1\n",
      "  (1, 270)\t1\n",
      "  (2, 217)\t1\n",
      "  (2, 310)\t1\n",
      "  (2, 352)\t1\n",
      "  (3, 259)\t1\n",
      "  (3, 435)\t1\n",
      "  (3, 456)\t1\n",
      "  (4, 340)\t1\n",
      "  (4, 435)\t1\n",
      "  (6, 370)\t1\n",
      "  (6, 414)\t1\n",
      "  (7, 6)\t1\n",
      "  (7, 128)\t1\n",
      "  (8, 354)\t1\n",
      "  (9, 44)\t1\n",
      "  (9, 225)\t1\n",
      "  (9, 293)\t1\n",
      "  (9, 361)\t1\n",
      "\n",
      "Is document-term matrix a scipy.sparse matrix? True\n"
     ]
    }
   ],
   "source": [
    "# get matrix (line_id, vocabulary_id) --> (this vocabulary occurs how many times in this line)\n",
    "doc_bag = count.transform(example_doc)\n",
    "print(' (lid, vid)     tf')\n",
    "print(doc_bag[:10])\n",
    "\n",
    "print('\\nIs document-term matrix a scipy.sparse matrix? {}'.format(sp.sparse.issparse(doc_bag)))"
   ]
  },
  {
   "cell_type": "code",
   "execution_count": 29,
   "metadata": {},
   "outputs": [
    {
     "name": "stdout",
     "output_type": "stream",
     "text": [
      "[[0 0 0 ... 0 0 0]\n",
      " [0 0 0 ... 0 0 0]\n",
      " [0 0 0 ... 0 0 0]\n",
      " ...\n",
      " [0 0 0 ... 0 0 0]\n",
      " [0 0 0 ... 0 0 0]\n",
      " [0 0 0 ... 0 0 0]]\n",
      "\n",
      "After calling .toarray(), is it a scipy.sparse matrix? False\n"
     ]
    }
   ],
   "source": [
    "doc_bag = doc_bag.toarray()\n",
    "print(doc_bag[:10])\n",
    "\n",
    "print('\\nAfter calling .toarray(), is it a scipy.sparse matrix? {}'.format(sp.sparse.issparse(doc_bag)))"
   ]
  },
  {
   "cell_type": "code",
   "execution_count": 30,
   "metadata": {},
   "outputs": [
    {
     "name": "stdout",
     "output_type": "stream",
     "text": [
      "[most frequent vocabularies]\n",
      "蟋蟀: 98\n",
      "可以: 21\n",
      "就是: 21\n",
      "聲音: 20\n",
      "這樣: 19\n",
      "你們: 17\n",
      "真的: 16\n",
      "還有: 15\n",
      "比較: 15\n",
      "豆油伯: 15\n"
     ]
    }
   ],
   "source": [
    "doc_bag = count.fit_transform(example_doc).toarray()\n",
    "\n",
    "print(\"[most frequent vocabularies]\")\n",
    "\n",
    "# conpute how many times each word occurs in doc_bag\n",
    "bag_cnts = np.sum(doc_bag, axis=0)\n",
    "\n",
    "# get words occur in doc_bag\n",
    "words_num = bag_cnts.shape[0]\n",
    "ones_vector = np.ones(words_num)\n",
    "words = count.inverse_transform(ones_vector)[0]\n",
    "\n",
    "# sort bag_cnts and get its indices and values\n",
    "most_freq_word_index = bag_cnts.argsort()\n",
    "most_freq_word_times = np.sort(bag_cnts)\n",
    "\n",
    "top = 10\n",
    "# [::-1] reverses a list since sort is in ascending order\n",
    "for tok, v in zip(words[most_freq_word_index[::-1][:top]], \n",
    "                        most_freq_word_times[::-1][:top]):\n",
    "    print('%s: %d' % (tok, v))"
   ]
  },
  {
   "cell_type": "code",
   "execution_count": 31,
   "metadata": {},
   "outputs": [
    {
     "name": "stdout",
     "output_type": "stream",
     "text": [
      "[vocabularies with smallest idf scores]\n",
      "蟋蟀: 2.87\n",
      "可以: 4.36\n",
      "就是: 4.41\n",
      "聲音: 4.46\n",
      "這樣: 4.46\n",
      "你們: 4.56\n",
      "真的: 4.62\n",
      "還有: 4.68\n",
      "豆油伯: 4.68\n",
      "比較: 4.68\n",
      "\n",
      "[vocabularies with highest tf-idf scores]\n",
      "蟋蟀: 42.02\n",
      "這樣: 11.92\n",
      "真的: 11.41\n",
      "就是: 11.26\n",
      "可以: 10.90\n",
      "聲音: 10.44\n",
      "豆油伯: 10.33\n",
      "還有: 9.84\n",
      "你們: 9.29\n",
      "叫做: 8.40\n"
     ]
    }
   ],
   "source": [
    "from sklearn.feature_extraction.text import TfidfVectorizer\n",
    "\n",
    "tfidf = TfidfVectorizer(ngram_range=(1,1))\n",
    "tfidf.fit(example_doc)\n",
    "\n",
    "top = 10\n",
    "# get idf score of vocabularies\n",
    "idf = tfidf.idf_\n",
    "print('[vocabularies with smallest idf scores]')\n",
    "sorted_idx = idf.argsort()\n",
    "for i in range(top):\n",
    "    print('%s: %.2f' % (tfidf.get_feature_names()[sorted_idx[i]], idf[sorted_idx[i]]))\n",
    "\n",
    "doc_tfidf = tfidf.transform(example_doc).toarray()\n",
    "tfidf_sum = np.sum(doc_tfidf, axis=0)\n",
    "print(\"\\n[vocabularies with highest tf-idf scores]\")\n",
    "for tok, v in zip(tfidf.inverse_transform(np.ones(tfidf_sum.shape[0]))[0][tfidf_sum.argsort()[::-1]][:top], \n",
    "                  np.sort(tfidf_sum)[::-1][:top]):\n",
    "    print('%s: %.2f' % (tok, v))"
   ]
  },
  {
   "cell_type": "code",
   "execution_count": 32,
   "metadata": {},
   "outputs": [
    {
     "name": "stdout",
     "output_type": "stream",
     "text": [
      "(635, 64)\n"
     ]
    }
   ],
   "source": [
    "from sklearn.feature_extraction.text import HashingVectorizer\n",
    "\n",
    "hashvec = HashingVectorizer(n_features=2**6)\n",
    "\n",
    "doc_hash = hashvec.transform(example_doc)\n",
    "print(doc_hash.shape)"
   ]
  },
  {
   "cell_type": "code",
   "execution_count": 33,
   "metadata": {},
   "outputs": [
    {
     "name": "stdout",
     "output_type": "stream",
     "text": [
      "                                              review  sentiment\n",
      "0  This movie is well done on so many levels that...          1\n",
      "1  Wilson (Erica Gavin) is nabbed by the cops and...          1\n",
      "2  Canto 1: How Kriemhild Mourned Over Siegfried ...          1\n",
      "3  I bought Bloodsuckers on ebay a while ago. I w...          0\n",
      "4  I took part in a little mini production of thi...          1\n",
      "5  This is certainly one of my all time fav episo...          1\n",
      "6  This scary and rather gory adaptation of Steph...          1\n",
      "7  Mike Hawthorne(Gordon Currie)is witness to the...          0\n",
      "8  It looks to me as if the creators of \"The Clas...          0\n",
      "9  This comic book style film is funny, has nicel...          1\n"
     ]
    }
   ],
   "source": [
    "import pandas as pd\n",
    "\n",
    "def get_stream(path, size):\n",
    "    for chunk in pd.read_csv(path, chunksize=size):\n",
    "        yield chunk\n",
    "\n",
    "print(next(get_stream(path='imdb.csv', size=10)))"
   ]
  },
  {
   "cell_type": "code",
   "execution_count": 34,
   "metadata": {},
   "outputs": [
    {
     "name": "stdout",
     "output_type": "stream",
     "text": [
      "hello this is a sanity check  :( ;P\n"
     ]
    }
   ],
   "source": [
    "import re\n",
    "from bs4 import BeautifulSoup\n",
    "\n",
    "def preprocessor(text):\n",
    "    # remove HTML tags\n",
    "    text = BeautifulSoup(text, 'html.parser').get_text()\n",
    "    \n",
    "    # regex for matching emoticons, keep emoticons, ex: :), :-P, :-D\n",
    "    r = '(?::|;|=|X)(?:-)?(?:\\)|\\(|D|P)'\n",
    "    emoticons = re.findall(r, text)\n",
    "    text = re.sub(r, '', text)\n",
    "    \n",
    "    # convert to lowercase and append all emoticons behind (with space in between)\n",
    "    # replace('-','') removes nose of emoticons\n",
    "    text = re.sub('[\\W]+', ' ', text.lower()) + ' ' + ' '.join(emoticons).replace('-','')\n",
    "    return text\n",
    "\n",
    "print(preprocessor('<a href=\"example.com\">Hello, This :-( is a sanity check ;P!</a>'))"
   ]
  },
  {
   "cell_type": "code",
   "execution_count": 35,
   "metadata": {},
   "outputs": [
    {
     "name": "stdout",
     "output_type": "stream",
     "text": [
      "[nltk_data] Downloading package stopwords to\n",
      "[nltk_data]     C:\\Users\\a1989\\AppData\\Roaming\\nltk_data...\n",
      "[nltk_data]   Unzipping corpora\\stopwords.zip.\n",
      "['runner', 'like', 'run', 'thu', 'run']\n"
     ]
    }
   ],
   "source": [
    "import nltk\n",
    "from nltk.corpus import stopwords\n",
    "from nltk.stem.porter import PorterStemmer\n",
    "\n",
    "nltk.download('stopwords')\n",
    "# Stop Words are words which do not contain important significance to be used in Search Queries. i.e. the, and,...etc\n",
    "stop = stopwords.words('english')\n",
    "\n",
    "def tokenizer_stem_nostop(text):\n",
    "    porter = PorterStemmer()\n",
    "    return [porter.stem(w) for w in re.split('\\s+', text.strip()) \\\n",
    "            if w not in stop and re.match('[a-zA-Z]+', w)]\n",
    "\n",
    "print(tokenizer_stem_nostop('runners like running and thus they run'))"
   ]
  },
  {
   "cell_type": "code",
   "execution_count": 38,
   "metadata": {},
   "outputs": [
    {
     "name": "stdout",
     "output_type": "stream",
     "text": [
      "[2000/4000] 0.877372\n"
     ]
    }
   ],
   "source": [
    "from sklearn.feature_extraction.text import HashingVectorizer\n",
    "from sklearn.linear_model import SGDClassifier\n",
    "from sklearn.metrics import roc_auc_score\n",
    "import numpy as np\n",
    "\n",
    "hashvec = HashingVectorizer(n_features=2**20, \n",
    "                            preprocessor=preprocessor, tokenizer=tokenizer_stem_nostop)\n",
    "# loss='log' gives logistic regression\n",
    "clf = SGDClassifier(loss='log', max_iter=100)\n",
    "\n",
    "batch_size = 1000\n",
    "stream = get_stream(path='imdb.csv', size=batch_size)\n",
    "\n",
    "classes = np.array([0, 1])\n",
    "train_auc, val_auc = [], []\n",
    "\n",
    "# we use one batch for training and another for validation in each iteration\n",
    "iters = int(2000/(batch_size*2))\n",
    "\n",
    "for i in range(iters):\n",
    "    batch = next(stream)\n",
    "    X_train, y_train = batch['review'], batch['sentiment']\n",
    "    if X_train is None:\n",
    "        break\n",
    "        \n",
    "    X_train = hashvec.transform(X_train)\n",
    "    clf.partial_fit(X_train, y_train, classes=classes)\n",
    "    train_auc.append(roc_auc_score(y_train, clf.predict_proba(X_train)[:,1]))\n",
    "    \n",
    "    # validate\n",
    "    batch = next(stream)\n",
    "    X_val, y_val = batch['review'], batch['sentiment']\n",
    "    \n",
    "    X_val = hashvec.transform(X_val)\n",
    "    score = roc_auc_score(y_val, clf.predict_proba(X_val)[:,1])\n",
    "    val_auc.append(score)\n",
    "    print('[%d/%d] %f' % ((i+1)*(batch_size*2), 4000, score))"
   ]
  },
  {
   "cell_type": "code",
   "execution_count": 40,
   "metadata": {
    "scrolled": true
   },
   "outputs": [
    {
     "data": {
      "image/png": "[encoded data removed]",
      "text/plain": [
       "<Figure size 432x288 with 1 Axes>"
      ]
     },
     "metadata": {},
     "output_type": "display_data"
    }
   ],
   "source": [
    "import matplotlib.pyplot as plt\n",
    "\n",
    "plt.plot(range(1, len(train_auc)+1), train_auc, color='blue', label='Train auc')\n",
    "plt.plot(range(1, len(train_auc)+1), val_auc, color='red', label='Val auc')\n",
    "plt.legend(loc=\"best\")\n",
    "plt.xlabel('#Batches')\n",
    "plt.ylabel('Auc')\n",
    "plt.tight_layout()\n",
    "plt.show()"
   ]
  },
  {
   "cell_type": "code",
   "execution_count": 41,
   "metadata": {},
   "outputs": [
    {
     "name": "stdout",
     "output_type": "stream",
     "text": [
      "test auc: 0.881\n"
     ]
    }
   ],
   "source": [
    "# import optimized pickle written in C for serializing and  de-serializing a Python object\n",
    "import _pickle as pkl\n",
    "\n",
    "# dump to disk\n",
    "pkl.dump(hashvec, open('hashvec.pkl', 'wb'))\n",
    "pkl.dump(clf, open('clf-sgd.pkl', 'wb'))\n",
    "\n",
    "# load from disk\n",
    "hashvec = pkl.load(open('hashvec.pkl', 'rb'))\n",
    "clf = pkl.load(open('clf-sgd.pkl', 'rb'))\n",
    "\n",
    "df_test = pd.read_csv('imdb.csv')\n",
    "print('test auc: %.3f' % roc_auc_score(df_test['sentiment'], \n",
    "                                       clf.predict_proba(hashvec.transform(df_test['review']))[:,1]))"
   ]
  }
 ],
 "metadata": {
  "kernelspec": {
   "display_name": "Python 3",
   "language": "python",
   "name": "python3"
  },
  "language_info": {
   "codemirror_mode": {
    "name": "ipython",
    "version": 3
   },
   "file_extension": ".py",
   "mimetype": "text/x-python",
   "name": "python",
   "nbconvert_exporter": "python",
   "pygments_lexer": "ipython3",
   "version": "3.6.5"
  }
 },
 "nbformat": 4,
 "nbformat_minor": 2
}
