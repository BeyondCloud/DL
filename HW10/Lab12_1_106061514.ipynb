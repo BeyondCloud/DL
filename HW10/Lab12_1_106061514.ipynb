{
 "cells": [
  {
   "cell_type": "code",
   "execution_count": 21,
   "metadata": {},
   "outputs": [],
   "source": [
    "def maybe_download_and_extract(dest_directory, url):\n",
    "  \"\"\"\n",
    "    Download the dataset and extract the data\n",
    "  \"\"\"\n",
    "    \n",
    "  if not os.path.exists(dest_directory):\n",
    "    os.makedirs(dest_directory)\n",
    "  file_name = 'cifar-10-binary.tar.gz'\n",
    "  file_path = os.path.join(dest_directory, file_name)\n",
    "  # if have not downloaded yet\n",
    "  if not os.path.exists(file_path):\n",
    "    def _progress(count, block_size, total_size):\n",
    "      sys.stdout.write('\\r%.1f%%' % \n",
    "            (float(count * block_size) / float(total_size) * 100.0))\n",
    "      sys.stdout.flush()  # flush the buffer\n",
    "\n",
    "    print('>> Downloading %s ...' % file_name)\n",
    "    file_path, _ = urllib.request.urlretrieve(url, file_path, _progress)\n",
    "    file_size = os.stat(file_path).st_size\n",
    "    print('\\r>> Total %d bytes' % file_size)\n",
    "  extracted_dir_path = os.path.join(dest_directory, 'cifar-10-batches-bin')\n",
    "  if not os.path.exists(extracted_dir_path):\n",
    "    # Open for reading with gzip compression, then extract all\n",
    "    tarfile.open(file_path, 'r:gz').extractall(dest_directory)\n",
    "  print('>> Done')\n",
    "\n",
    "# download it"
   ]
  },
  {
   "cell_type": "code",
   "execution_count": 22,
   "metadata": {},
   "outputs": [
    {
     "name": "stdout",
     "output_type": "stream",
     "text": [
      ">> Done\n"
     ]
    }
   ],
   "source": [
    "import os\n",
    "import sys\n",
    "from six.moves import urllib\n",
    "import tarfile\n",
    "import tensorflow as tf\n",
    "import numpy as np\n",
    "DATA_URL = 'http://www.cs.toronto.edu/~kriz/cifar-10-binary.tar.gz'\n",
    "DEST_DIRECTORY = './dataset/cifar10'\n",
    "DATA_DIRECTORY = DEST_DIRECTORY + '/cifar-10-batches-bin'\n",
    "IMAGE_HEIGHT = 32\n",
    "IMAGE_WIDTH = 32\n",
    "IMAGE_DEPTH = 3\n",
    "IMAGE_SIZE_CROPPED = 24\n",
    "BATCH_SIZE = 128\n",
    "NUM_CLASSES = 10 \n",
    "LABEL_BYTES = 1\n",
    "IMAGE_BYTES = 32 * 32 * 3\n",
    "NUM_EXAMPLES_PER_EPOCH_FOR_TRAIN = 50000\n",
    "NUM_EXAMPLES_PER_EPOCH_FOR_EVAL = 10000\n",
    "\n",
    "# The record is the image plus a one-byte label\n",
    "_RECORD_BYTES = IMAGE_HEIGHT * IMAGE_WIDTH * IMAGE_DEPTH + 1\n",
    "# download it\n",
    "maybe_download_and_extract(DEST_DIRECTORY, DATA_URL)\n",
    "training_files = [os.path.join(DATA_DIRECTORY, 'data_batch_%d.bin' % i) for i in range(1,6)]\n",
    "testing_files = [os.path.join(DATA_DIRECTORY, 'test_batch.bin')]\n",
    "\n"
   ]
  },
  {
   "cell_type": "code",
   "execution_count": 23,
   "metadata": {},
   "outputs": [],
   "source": [
    "# (5) + (6)\n",
    "def read_cifar10(filename_queue):\n",
    "    \"\"\" Reads and parses examples from CIFAR10 data files.\n",
    "    -----\n",
    "    Args:\n",
    "        filename_queue: \n",
    "            A queue of strings with the filenames to read from.\n",
    "    Returns:\n",
    "        An object representing a single example, with the following fields:\n",
    "        height: \n",
    "            number of rows in the result (32)\n",
    "        width: \n",
    "            number of columns in the result (32)\n",
    "        depth: \n",
    "            number of color channels in the result (3)\n",
    "        key: \n",
    "            a scalar string Tensor describing the filename & record number for this example.\n",
    "        label: \n",
    "            an int32 Tensor with the label in the range 0..9.\n",
    "        image: \n",
    "            a [height, width, depth] uint8 Tensor with the image data\n",
    "    \"\"\"\n",
    "\n",
    "    class CIFAR10Record(object):\n",
    "        pass\n",
    "\n",
    "    result = CIFAR10Record()\n",
    "    # CIFAR10 consists of 60000 32x32 'color' images in 10 classes\n",
    "    label_bytes = 1  # 10 class\n",
    "    result.height = IMAGE_HEIGHT\n",
    "    result.width = IMAGE_WIDTH\n",
    "    result.depth = IMAGE_DEPTH\n",
    "    image_bytes = result.height * result.width * result.depth\n",
    "    # bytes of a record: label(1 byte) followed by pixels(3072 bytes)\n",
    "    record_bytes = label_bytes + image_bytes\n",
    "    # (5) reader for cifar10 file format\n",
    "    reader = tf.FixedLengthRecordReader(record_bytes=record_bytes)\n",
    "    # read a record\n",
    "    result.key, record_string = reader.read(filename_queue)\n",
    "    # Convert from a string to a vector of uint8 that is record_bytes long.\n",
    "    # (6) decoder\n",
    "    record_uint8 = tf.decode_raw(record_string, tf.uint8)\n",
    "    # get the label and cast it to int32\n",
    "    result.label = tf.cast(\n",
    "      tf.strided_slice(record_uint8, [0], [label_bytes]), tf.int32)\n",
    "    # [depth, height, width], uint8\n",
    "    depth_major = tf.reshape(\n",
    "      tf.strided_slice(record_uint8, [label_bytes],\n",
    "                       [label_bytes + image_bytes]),\n",
    "      [result.depth, result.height, result.width])\n",
    "    # change to [height, width, depth], uint8\n",
    "    result.image = tf.transpose(depth_major, [1, 2, 0])\n",
    "    return result"
   ]
  },
  {
   "cell_type": "code",
   "execution_count": 56,
   "metadata": {},
   "outputs": [],
   "source": [
    "class CNN_Model(object):\n",
    "    def __init__(self, model_hps):\n",
    "        self.image_size = model_hps.image_size\n",
    "        self.batch_size = model_hps.batch_size\n",
    "        self.num_classes = model_hps.num_classes\n",
    "        self.num_training_example = model_hps.num_training_example\n",
    "        self.num_epoch_per_decay = model_hps.num_epoch_per_decay\n",
    "        self.init_lr = model_hps.init_lr  # initial learn rate\n",
    "        self.moving_average_decay = model_hps.moving_average_decay\n",
    "        self.ckpt_dir = model_hps.ckpt_dir\n",
    "\n",
    "        self.build_model()\n",
    "\n",
    "    def build_model(self):\n",
    "        # op for training\n",
    "        self.global_step = tf.contrib.framework.get_or_create_global_step()\n",
    "\n",
    "        with tf.variable_scope('model'):\n",
    "            self.images = tf.placeholder(tf.float32,[self.batch_size, self.image_size, self.image_size, 3]) \n",
    "            self.labels = tf.placeholder(tf.int32)\n",
    "\n",
    "            self.logits = self.inference(self.images)\n",
    "            self.top_k_op = tf.nn.in_top_k(self.logits, self.labels, 1) \n",
    "            self.total_loss = self.loss(self.logits, self.labels)\n",
    "            self.train_op = self.train(self.total_loss, self.global_step)\n",
    "\n",
    "    def _variable_on_cpu(self, name, shape, initializer):\n",
    "        with tf.device('/cpu:0'):\n",
    "            var = tf.get_variable(name, shape, initializer=initializer, dtype=tf.float32)\n",
    "\n",
    "        return var\n",
    "\n",
    "    def _variable_with_weight_decay(self, name, shape, stddev, wd=0.0):\n",
    "        \"\"\" Helper to create an initialized Variable with weight decay.\n",
    "            Note that the Variable is initialized with a truncated normal \n",
    "            distribution. A weight decay is added only if one is specified.\n",
    "            -----\n",
    "            Args:\n",
    "                name: \n",
    "                    name of the variable\n",
    "                shape: \n",
    "                    a list of ints\n",
    "                stddev: \n",
    "                    standard deviation of a truncated Gaussian\n",
    "                wd: \n",
    "                    add L2Loss weight decay multiplied by this float. If None, weight\n",
    "                    decay is not added for this Variable.\n",
    "            Returns:\n",
    "                Variable Tensor\n",
    "        \"\"\"\n",
    "        initializer = tf.truncated_normal_initializer(\n",
    "            stddev=stddev, dtype=tf.float32)\n",
    "        var = self._variable_on_cpu(name, shape, initializer)\n",
    "        # deal with weight decay\n",
    "        weight_decay = tf.multiply(tf.nn.l2_loss(var), wd, name='weight_loss')\n",
    "        tf.add_to_collection('losses', weight_decay)\n",
    "        return var\n",
    "\n",
    "    def _conv_block(self, inp, scope, kernel_width, kernel_height, inp_channel, out_channel, strides = [1, 1, 1, 1], padding='SAME'):\n",
    "        with tf.variable_scope(scope) as scope:\n",
    "            kernel = self._variable_with_weight_decay('weights', [kernel_width, kernel_width, inp_channel, out_channel], 5e-2)\n",
    "            biases = self._variable_on_cpu('bias', [out_channel], tf.constant_initializer(0.0))\n",
    "\n",
    "            conv = tf.nn.conv2d(inp, kernel, strides=strides, padding=padding)\n",
    "            pre_activation = tf.nn.bias_add(conv, biases)\n",
    "            return tf.nn.relu(pre_activation, name=scope.name)\n",
    "\n",
    "    def _fully_connected_layer(self, inp, scope, in_dim, out_dim, relu = True):\n",
    "        with tf.variable_scope(scope) as scope:\n",
    "            weights = self._variable_with_weight_decay('weights', [in_dim, out_dim], 0.04, 0.004)\n",
    "            biases = self._variable_on_cpu('biases', [out_dim], tf.constant_initializer(0.1))\n",
    "            if relu:\n",
    "                return tf.nn.relu(tf.matmul(inp, weights) + biases, name=scope.name)\n",
    "            else:\n",
    "                return tf.matmul(inp, weights) + biases\n",
    "\n",
    "    def inference(self, images):\n",
    "        \"\"\" build the model\n",
    "            -----\n",
    "            Args:\n",
    "                images with shape [batch_size,24,24,3]\n",
    "            Return:\n",
    "                logits with shape [batch_size,10]\n",
    "        \"\"\"\n",
    "        conv_1 = self._conv_block(images, 'conv_1', 5, 5, 3, 64)\n",
    "        # pool_1\n",
    "        pool_1 = tf.nn.max_pool(conv_1,ksize=[1, 3, 3, 1],strides=[1, 2, 2, 1],padding='SAME',name='pool_1')\n",
    "        # norm_1 (local_response_normalization)\n",
    "        norm_1 = tf.nn.lrn(pool_1, 4, bias=1.0, alpha=0.001 / 9.0, beta=0.75, name='norm_1')\n",
    "\n",
    "        # conv2\n",
    "        conv_2 = self._conv_block(norm_1, 'conv_2', 5, 5, 64, 64)\n",
    "        # norm2\n",
    "        norm_2 = tf.nn.lrn(conv_2, 4, bias=1.0, alpha=0.001 / 9.0, beta=0.75, name='norm_2')\n",
    "        # pool2\n",
    "        pool_2 = tf.nn.max_pool(norm_2,ksize=[1, 3, 3, 1],strides=[1, 2, 2, 1],padding='SAME',name='pool_2')\n",
    "\n",
    "        # Flatten feature maps before fully connected layers\n",
    "        flat_features = tf.reshape(pool_2, [self.batch_size, -1])\n",
    "        dim = flat_features.get_shape()[1].value\n",
    "        # FC_1 (fully-connected layer)\n",
    "        fc_1 = self._fully_connected_layer(flat_features, 'fc1', dim, 384)\n",
    "\n",
    "        # FC_2\n",
    "        fc_2 = self._fully_connected_layer(fc_1, 'fc2', 384, 192)\n",
    "\n",
    "        logits = self._fully_connected_layer(fc_2, 'softmax_linear', 192, self.num_classes, relu = False)\n",
    "        return logits\n",
    "\n",
    "    def loss(self, logits, labels):\n",
    "        '''calculate the loss'''\n",
    "        labels = tf.cast(labels, tf.int64)\n",
    "        cross_entropy = tf.nn.sparse_softmax_cross_entropy_with_logits(\n",
    "            labels=labels, logits=logits, name='cross_entropy_per_example')\n",
    "        cross_entropy_mean = tf.reduce_mean(cross_entropy, name='cross_entropy')\n",
    "        tf.add_to_collection('losses', cross_entropy_mean)\n",
    "        # The total loss is defined as the cross entropy loss plus all of the weight\n",
    "        # decay terms (L2 loss).\n",
    "        return tf.add_n(tf.get_collection('losses'), name='total_loss')\n",
    "\n",
    "    def train(self, total_loss, global_step):\n",
    "        '''Return training operation of one step'''\n",
    "        num_batches_per_epoch = self.num_training_example / self.batch_size\n",
    "        decay_steps = int(num_batches_per_epoch * self.num_epoch_per_decay)\n",
    "        # Decay the learning rate exponentially based on the number of steps.\n",
    "        lr = tf.train.exponential_decay(\n",
    "            self.init_lr, global_step, decay_steps, decay_rate=0.1, staircase=True)\n",
    "        opt = tf.train.GradientDescentOptimizer(lr)\n",
    "        grads = opt.compute_gradients(total_loss)\n",
    "        apply_gradient_op = opt.apply_gradients(grads, global_step=global_step)\n",
    "        # Track the moving averages of all trainable variables.\n",
    "        # This step just records the moving average weights but not uses them\n",
    "        ema = tf.train.ExponentialMovingAverage(self.moving_average_decay,\n",
    "                                                global_step)\n",
    "        self.ema = ema\n",
    "        variables_averages_op = ema.apply(tf.trainable_variables())\n",
    "        with tf.control_dependencies([apply_gradient_op, variables_averages_op]):\n",
    "            train_op = tf.no_op(name='train')\n",
    "        return train_op"
   ]
  },
  {
   "cell_type": "code",
   "execution_count": 26,
   "metadata": {},
   "outputs": [],
   "source": [
    "def run_training(model, data_train , num_epoch):\n",
    "    saver = tf.train.Saver()\n",
    "        \n",
    "    with tf.Session() as sess:\n",
    "        sess.run(iterator_train.initializer)\n",
    "        \n",
    "        ckpt = tf.train.get_checkpoint_state(model.ckpt_dir)\n",
    "        if (ckpt and ckpt.model_checkpoint_path):\n",
    "            saver.restore(sess, ckpt.model_checkpoint_path)\n",
    "            # assume the name of checkpoint is like '.../model.ckpt-1000'\n",
    "            gs = int(ckpt.model_checkpoint_path.split('/')[-1].split('-')[-1])\n",
    "            sess.run(tf.assign(model.global_step, gs))\n",
    "        else:\n",
    "          # no checkpoint found\n",
    "            print('no ckpt, init global variable...')\n",
    "            sess.run(tf.global_variables_initializer())\n",
    "\n",
    "        coord = tf.train.Coordinator()\n",
    "        threads = tf.train.start_queue_runners(sess=sess, coord=coord)\n",
    "        model.loss_each_epoch = []\n",
    "\n",
    "        num_batch_per_epoch = NUM_EXAMPLES_PER_EPOCH_FOR_TRAIN//model.batch_size\n",
    "        #start training\n",
    "        for i in range(num_epoch):\n",
    "            _loss = []\n",
    "            print('epoch:',i)\n",
    "            for _ in range(num_batch_per_epoch):\n",
    "                print('.',end='')\n",
    "                images, labels = sess.run(data_train)\n",
    "                l, _ = sess.run([model.total_loss, model.train_op], feed_dict = {model.images:images, model.labels:labels})\n",
    "                _loss.append(l)\n",
    "            loss_this_epoch = np.sum(_loss)\n",
    "            gs = model.global_step.eval()\n",
    "            print('loss of epoch %d: %f' % (gs / num_batch_per_epoch, loss_this_epoch))\n",
    "            model.loss_each_epoch.append(loss_this_epoch)\n",
    "            saver.save(sess, model.ckpt_dir + 'model.ckpt', global_step=gs)\n",
    "        coord.request_stop()\n",
    "        coord.join(threads)\n",
    "    print('Done training %d epochs' %num_epoch)"
   ]
  },
  {
   "cell_type": "code",
   "execution_count": 27,
   "metadata": {},
   "outputs": [],
   "source": [
    "def run_testing(model, data_test):\n",
    "    variables_to_restore = model.ema.variables_to_restore()\n",
    "    saver = tf.train.Saver(variables_to_restore)\n",
    "    with tf.Session() as sess:\n",
    "        # Restore variables from disk.\n",
    "        ckpt = tf.train.get_checkpoint_state(model.ckpt_dir)\n",
    "\n",
    "        if ckpt and ckpt.model_checkpoint_path:\n",
    "            saver.restore(sess, ckpt.model_checkpoint_path)\n",
    "            coord = tf.train.Coordinator()\n",
    "            threads = tf.train.start_queue_runners(sess=sess, coord=coord)\n",
    "\n",
    "            num_iter = NUM_EXAMPLES_PER_EPOCH_FOR_EVAL // model.batch_size\n",
    "            total_sample_count = num_iter * model.batch_size\n",
    "            true_count = 0\n",
    "            for _ in range(num_iter):\n",
    "                images, labels = sess.run(data_test) \n",
    "\n",
    "                predictions = sess.run(model.top_k_op, feed_dict = {model.images:images, model.labels:labels})\n",
    "                true_count += np.sum(predictions)\n",
    "            print('Accurarcy: %d/%d = %f' % (true_count, total_sample_count,\n",
    "                                             true_count / total_sample_count))\n",
    "            coord.request_stop()\n",
    "            coord.join(threads)\n",
    "        else:\n",
    "            print('train first')"
   ]
  },
  {
   "cell_type": "code",
   "execution_count": 54,
   "metadata": {},
   "outputs": [],
   "source": [
    "model_hps_cifar = tf.contrib.training.HParams(\n",
    "  image_size = IMAGE_SIZE_CROPPED,\n",
    "  batch_size = BATCH_SIZE,\n",
    "  num_classes = NUM_CLASSES,\n",
    "  num_training_example = NUM_EXAMPLES_PER_EPOCH_FOR_TRAIN,\n",
    "  num_epoch_per_decay = 350.0,\n",
    "  init_lr = 0.1,\n",
    "  moving_average_decay = 0.9999,\n",
    "  ckpt_dir = './model/'\n",
    ")"
   ]
  },
  {
   "cell_type": "code",
   "execution_count": 82,
   "metadata": {
    "scrolled": true
   },
   "outputs": [
    {
     "name": "stdout",
     "output_type": "stream",
     "text": [
      "done\n"
     ]
    }
   ],
   "source": [
    "def cifar10_record_distort_parser(record):\n",
    "\n",
    "    record_bytes = LABEL_BYTES + IMAGE_BYTES\n",
    "    record = tf.decode_raw(record, tf.uint8)\n",
    "    label  = tf.cast(record[0], tf.int32)\n",
    "    \n",
    "    image = tf.reshape(record[1:record_bytes]\n",
    "                       , [IMAGE_DEPTH, IMAGE_HEIGHT, IMAGE_WIDTH])\n",
    "    \n",
    "    reshaped_image = tf.cast(tf.transpose(image, [1, 2, 0]), tf.float32)\n",
    "    distorted_image = tf.random_crop(reshaped_image\n",
    "                                     , [IMAGE_SIZE_CROPPED, IMAGE_SIZE_CROPPED, 3])\n",
    "    distorted_image = tf.image.random_flip_left_right(distorted_image)\n",
    "    distorted_image = tf.image.random_brightness(distorted_image, max_delta=63)\n",
    "    distorted_image = tf.image.per_image_standardization(distorted_image)\n",
    "    \n",
    "    return label, distorted_image\n",
    "    \n",
    "\n",
    "\n",
    "def cifar10_record_crop_parser(record):\n",
    "\n",
    "    record_bytes = LABEL_BYTES + IMAGE_BYTES\n",
    "    record = tf.decode_raw(record, tf.uint8)\n",
    "    label  = tf.cast(record[0], tf.int32)\n",
    "    \n",
    "    image = tf.reshape(record[1:record_bytes]\n",
    "                       , [IMAGE_DEPTH, IMAGE_HEIGHT, IMAGE_WIDTH])\n",
    "    \n",
    "    reshaped_image = tf.cast(tf.transpose(image, [1, 2, 0]), tf.float32)\n",
    "    cropped_image = tf.random_crop(reshaped_image\n",
    "                                     , [IMAGE_SIZE_CROPPED, IMAGE_SIZE_CROPPED, 3])\n",
    "    cropped_image = tf.image.per_image_standardization(cropped_image)\n",
    "    \n",
    "    return label, cropped_image\n",
    "\n",
    "\n",
    "def cifar10_iterator(filenames, batch_size, cifar10_record_parser):\n",
    "\n",
    "    record_bytes = LABEL_BYTES + IMAGE_BYTES\n",
    "    dataset = tf.data.FixedLengthRecordDataset(filenames, record_bytes)\n",
    "    dataset = dataset.map(cifar10_record_parser)\n",
    "    dataset = dataset.batch(batch_size)\n",
    "    dataset = dataset.repeat(10)\n",
    "    \n",
    "    iterator = dataset.make_initializable_iterator()\n",
    "    \n",
    "\n",
    "    return iterator, dataset.output_types, dataset.output_shapes\n",
    "\n",
    "\n",
    "tf.reset_default_graph()\n",
    "\n",
    "training_files = [os.path.join(DATA_DIRECTORY, 'data_batch_%d.bin' % i) for i in range(1, 6)]\n",
    "testing_files = [os.path.join(DATA_DIRECTORY, 'test_batch.bin')]\n",
    "\n",
    "filenames_train = tf.constant(training_files)\n",
    "filenames_test = tf.constant(testing_files)\n",
    "\n",
    "iterator_train, types, shapes = cifar10_iterator(filenames_train, BATCH_SIZE, cifar10_record_distort_parser)\n",
    "iterator_test, _, _ = cifar10_iterator(filenames_test, BATCH_SIZE, cifar10_record_crop_parser)\n",
    "\n",
    "next_batch = iterator_train.get_next()\n",
    "\n",
    "# use to handle training and testing\n",
    "handle = tf.placeholder(tf.string, shape=[])\n",
    "iterator = tf.data.Iterator.from_string_handle(handle, types, shapes)\n",
    "labels_images_pairs = iterator.get_next()\n",
    "\n",
    "\n",
    "# CNN model\n",
    "model = CNN_Model(model_hps_cifar)\n",
    "\n",
    "\n",
    "print('done')"
   ]
  },
  {
   "cell_type": "code",
   "execution_count": 86,
   "metadata": {},
   "outputs": [
    {
     "name": "stdout",
     "output_type": "stream",
     "text": [
      "INFO:tensorflow:Restoring parameters from ./model/model.ckpt-780\n",
      "WARNING:tensorflow:`tf.train.start_queue_runners()` was called when no queue runners were defined. You can safely remove the call to this deprecated function.\n",
      "2018-11-03 00:03:01.848300: Start training.\n"
     ]
    },
    {
     "data": {
      "application/vnd.jupyter.widget-view+json": {
       "model_id": "51c85659bdb14fa598308674a2e4a5a6",
       "version_major": 2,
       "version_minor": 0
      },
      "text/plain": [
       "HBox(children=(IntProgress(value=0, max=390), HTML(value='')))"
      ]
     },
     "metadata": {},
     "output_type": "display_data"
    },
    {
     "name": "stdout",
     "output_type": "stream",
     "text": [
      "2018-11-03 00:08:38.174215: Loss of epoch 3.0: 956.37109375\n"
     ]
    },
    {
     "data": {
      "application/vnd.jupyter.widget-view+json": {
       "model_id": "e73c13657dc24e80afbdc4e9ec783f6b",
       "version_major": 2,
       "version_minor": 0
      },
      "text/plain": [
       "HBox(children=(IntProgress(value=0, max=390), HTML(value='')))"
      ]
     },
     "metadata": {},
     "output_type": "display_data"
    },
    {
     "name": "stdout",
     "output_type": "stream",
     "text": [
      "2018-11-03 00:14:14.563623: Loss of epoch 4.0: 803.8801879882812\n"
     ]
    },
    {
     "data": {
      "application/vnd.jupyter.widget-view+json": {
       "model_id": "9659cf6f397c43f7bb0ff6629722977a",
       "version_major": 2,
       "version_minor": 0
      },
      "text/plain": [
       "HBox(children=(IntProgress(value=0, max=390), HTML(value='')))"
      ]
     },
     "metadata": {},
     "output_type": "display_data"
    },
    {
     "name": "stdout",
     "output_type": "stream",
     "text": [
      "2018-11-03 00:19:51.099676: Loss of epoch 5.0: 688.476806640625\n"
     ]
    },
    {
     "data": {
      "application/vnd.jupyter.widget-view+json": {
       "model_id": "45105f511c8d4046b02990f506ee83c8",
       "version_major": 2,
       "version_minor": 0
      },
      "text/plain": [
       "HBox(children=(IntProgress(value=0, max=390), HTML(value='')))"
      ]
     },
     "metadata": {},
     "output_type": "display_data"
    },
    {
     "name": "stdout",
     "output_type": "stream",
     "text": [
      "2018-11-03 00:25:28.512447: Loss of epoch 6.0: 606.7338256835938\n"
     ]
    },
    {
     "data": {
      "application/vnd.jupyter.widget-view+json": {
       "model_id": "b8bbdc2ab017401c8c4bf4642e72efb6",
       "version_major": 2,
       "version_minor": 0
      },
      "text/plain": [
       "HBox(children=(IntProgress(value=0, max=390), HTML(value='')))"
      ]
     },
     "metadata": {},
     "output_type": "display_data"
    },
    {
     "name": "stdout",
     "output_type": "stream",
     "text": [
      "2018-11-03 00:31:13.462536: Loss of epoch 7.0: 548.3948974609375\n"
     ]
    },
    {
     "data": {
      "application/vnd.jupyter.widget-view+json": {
       "model_id": "420f6cb84e574a8991a540fd8556fcf0",
       "version_major": 2,
       "version_minor": 0
      },
      "text/plain": [
       "HBox(children=(IntProgress(value=0, max=390), HTML(value='')))"
      ]
     },
     "metadata": {},
     "output_type": "display_data"
    },
    {
     "name": "stdout",
     "output_type": "stream",
     "text": [
      "2018-11-03 00:36:55.817455: Loss of epoch 8.0: 503.2664794921875\n"
     ]
    },
    {
     "data": {
      "application/vnd.jupyter.widget-view+json": {
       "model_id": "324be3dd819641f7b2eaa6c63676980d",
       "version_major": 2,
       "version_minor": 0
      },
      "text/plain": [
       "HBox(children=(IntProgress(value=0, max=390), HTML(value='')))"
      ]
     },
     "metadata": {},
     "output_type": "display_data"
    },
    {
     "name": "stdout",
     "output_type": "stream",
     "text": [
      "2018-11-03 00:42:35.797119: Loss of epoch 9.0: 469.2889404296875\n"
     ]
    },
    {
     "data": {
      "application/vnd.jupyter.widget-view+json": {
       "model_id": "0e49a7bd12354d14bc69a92a3dbe1e39",
       "version_major": 2,
       "version_minor": 0
      },
      "text/plain": [
       "HBox(children=(IntProgress(value=0, max=390), HTML(value='')))"
      ]
     },
     "metadata": {},
     "output_type": "display_data"
    },
    {
     "name": "stdout",
     "output_type": "stream",
     "text": [
      "2018-11-03 00:48:16.708131: Loss of epoch 10.0: 445.47125244140625\n"
     ]
    },
    {
     "data": {
      "application/vnd.jupyter.widget-view+json": {
       "model_id": "b8181cfc6b8342d1a248d06deee0ca8e",
       "version_major": 2,
       "version_minor": 0
      },
      "text/plain": [
       "HBox(children=(IntProgress(value=0, max=390), HTML(value='')))"
      ]
     },
     "metadata": {},
     "output_type": "display_data"
    },
    {
     "name": "stdout",
     "output_type": "stream",
     "text": [
      "2018-11-03 00:53:57.056173: Loss of epoch 11.0: 424.71630859375\n"
     ]
    },
    {
     "data": {
      "application/vnd.jupyter.widget-view+json": {
       "model_id": "e3070cad700f4dcb948727c8aea93a3a",
       "version_major": 2,
       "version_minor": 0
      },
      "text/plain": [
       "HBox(children=(IntProgress(value=0, max=390), HTML(value='')))"
      ]
     },
     "metadata": {},
     "output_type": "display_data"
    },
    {
     "name": "stdout",
     "output_type": "stream",
     "text": [
      "2018-11-03 00:59:36.948213: Loss of epoch 12.0: 408.9622497558594\n",
      "2018-11-03 00:59:37.156214: Done training.\n",
      "Wall time: 56min 35s\n"
     ]
    }
   ],
   "source": [
    "%%time\n",
    "\n",
    "# train\n",
    "global_step = tf.contrib.framework.get_or_create_global_step()\n",
    "\n",
    "\n",
    "\n",
    "from datetime import datetime\n",
    "\n",
    "from tqdm import tqdm_notebook as tqdm\n",
    "NUM_EPOCH = 10\n",
    "NUM_BATCH_PER_EPOCH = NUM_EXAMPLES_PER_EPOCH_FOR_TRAIN // BATCH_SIZE\n",
    "ckpt_dir = './model/'\n",
    "\n",
    "# config = tf.ConfigProto(allow_soft_placement=True, gpu_options=tf.GPUOptions(allow_growth=True))\n",
    "\n",
    "# train\n",
    "saver = tf.train.Saver()\n",
    "\n",
    "# with tf.Session(config=config) as sess:\n",
    "with tf.Session() as sess:\n",
    "    \n",
    "    ckpt = tf.train.get_checkpoint_state(ckpt_dir)\n",
    "    \n",
    "    if (ckpt and ckpt.model_checkpoint_path):\n",
    "        saver.restore(sess, ckpt.model_checkpoint_path)\n",
    "        # assume the name of checkpoint is like '.../model.ckpt-1000'\n",
    "        gs = int(ckpt.model_checkpoint_path.split('/')[-1].split('-')[-1])\n",
    "        sess.run(tf.assign(global_step, gs))\n",
    "    else:\n",
    "        # no checkpoint found\n",
    "        init_op = tf.group(tf.global_variables_initializer(), tf.local_variables_initializer())\n",
    "\n",
    "        sess.run(init_op)\n",
    "    coord = tf.train.Coordinator()\n",
    "    threads = tf.train.start_queue_runners(sess=sess, coord=coord)\n",
    "    loss = []\n",
    "    training_handle = sess.run(iterator_train.string_handle())\n",
    "    \n",
    "    print(\"{}: Start training.\".format(datetime.now()))\n",
    "        \n",
    "    for i in range(NUM_EPOCH):\n",
    "        _loss = []\n",
    "        sess.run(iterator_train.initializer)\n",
    "\n",
    "        for _ in tqdm(range(NUM_BATCH_PER_EPOCH)):\n",
    "            lbl, img = sess.run(next_batch)            \n",
    "            l, _ = sess.run([model.total_loss, model.train_op], feed_dict={model.images: img, model.labels: lbl})\n",
    "\n",
    "\n",
    "            \n",
    "            _loss.append(l)\n",
    "        loss_this_epoch = np.sum(_loss)\n",
    "        gs = global_step.eval()\n",
    "        print('{}: Loss of epoch {}: {}'.format(datetime.now(), gs / NUM_BATCH_PER_EPOCH, loss_this_epoch))\n",
    "        loss.append(loss_this_epoch)\n",
    "        saver.save(sess, ckpt_dir + 'model.ckpt', global_step=gs)\n",
    "    coord.request_stop()\n",
    "    coord.join(threads)\n",
    "  \n",
    "print(\"{}: Done training.\".format(datetime.now()))\n",
    "\n"
   ]
  },
  {
   "cell_type": "code",
   "execution_count": 89,
   "metadata": {},
   "outputs": [
    {
     "name": "stdout",
     "output_type": "stream",
     "text": [
      "INFO:tensorflow:Restoring parameters from ./model/model.ckpt-4680\n",
      "WARNING:tensorflow:`tf.train.start_queue_runners()` was called when no queue runners were defined. You can safely remove the call to this deprecated function.\n"
     ]
    },
    {
     "data": {
      "application/vnd.jupyter.widget-view+json": {
       "model_id": "00ae3026819d4ce289f9fbdc004df2b5",
       "version_major": 2,
       "version_minor": 0
      },
      "text/plain": [
       "HBox(children=(IntProgress(value=0, max=78), HTML(value='')))"
      ]
     },
     "metadata": {},
     "output_type": "display_data"
    },
    {
     "name": "stdout",
     "output_type": "stream",
     "text": [
      "2018-11-03 01:00:41.247605: Accurarcy: 7317/9984 = 0.7328725961538461\n",
      "Wall time: 20.9 s\n"
     ]
    }
   ],
   "source": [
    "%%time\n",
    "\n",
    "next_test = iterator_test.get_next()\n",
    "variables_to_restore = model.ema.variables_to_restore()\n",
    "saver = tf.train.Saver(variables_to_restore)\n",
    "with tf.Session() as sess:\n",
    "    # Restore variables from disk.\n",
    "    ckpt = tf.train.get_checkpoint_state(ckpt_dir)\n",
    "    if ckpt and ckpt.model_checkpoint_path:\n",
    "        saver.restore(sess, ckpt.model_checkpoint_path)\n",
    "        coord = tf.train.Coordinator()\n",
    "        threads = tf.train.start_queue_runners(sess=sess, coord=coord)\n",
    "        num_iter = NUM_EXAMPLES_PER_EPOCH_FOR_EVAL // BATCH_SIZE\n",
    "        total_sample_count = num_iter * BATCH_SIZE\n",
    "        true_count = 0\n",
    "        sess.run(iterator_test.initializer)\n",
    "        for _ in tqdm(range(num_iter)):\n",
    "            lbl, img = sess.run(next_test)\n",
    "            predictions = sess.run(model.top_k_op, feed_dict={model.images: img, model.labels: lbl})\n",
    "            true_count += np.sum(predictions)\n",
    "        print('{}: Accurarcy: {}/{} = {}'.format(datetime.now(), true_count, total_sample_count,\n",
    "                                     true_count / total_sample_count))\n",
    "        coord.request_stop()\n",
    "        coord.join(threads)\n",
    "    else:\n",
    "        print(\"{}: No model existed.\".format(datetime.now()))"
   ]
  }
 ],
 "metadata": {
  "kernelspec": {
   "display_name": "Python 3",
   "language": "python",
   "name": "python3"
  },
  "language_info": {
   "codemirror_mode": {
    "name": "ipython",
    "version": 3
   },
   "file_extension": ".py",
   "mimetype": "text/x-python",
   "name": "python",
   "nbconvert_exporter": "python",
   "pygments_lexer": "ipython3",
   "version": "3.6.5"
  }
 },
 "nbformat": 4,
 "nbformat_minor": 2
}
